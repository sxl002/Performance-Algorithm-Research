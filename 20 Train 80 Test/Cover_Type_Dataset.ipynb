{
 "cells": [
  {
   "cell_type": "code",
   "execution_count": 1,
   "metadata": {
    "collapsed": true
   },
   "outputs": [],
   "source": [
    "import numpy as np\n",
    "import pandas as pd\n",
    "import scipy.io as sio\n",
    "import matplotlib.pyplot as plt\n",
    "import seaborn as sns\n",
    "from sklearn import svm\n",
    "from sklearn.model_selection import RandomizedSearchCV\n",
    "from sklearn.model_selection import GridSearchCV\n",
    "from sklearn.neighbors import KNeighborsClassifier\n",
    "from sklearn.datasets import make_classification\n",
    "from sklearn.ensemble import RandomForestClassifier\n",
    "from sklearn.datasets import make_classification\n",
    "from sklearn.preprocessing import StandardScaler\n",
    "from collections import Counter"
   ]
  },
  {
   "cell_type": "code",
   "execution_count": 2,
   "metadata": {
    "collapsed": true
   },
   "outputs": [],
   "source": [
    "data = np.loadtxt('covtype.data', delimiter=',')\n",
    "#data = np.loadtxt('covtype_7000.data', delimiter=',')"
   ]
  },
  {
   "cell_type": "code",
   "execution_count": 3,
   "metadata": {},
   "outputs": [
    {
     "name": "stdout",
     "output_type": "stream",
     "text": [
      "[(2.0, 283301), (1.0, 211840), (3.0, 35754)]\n"
     ]
    }
   ],
   "source": [
    "# Find the most common classes\n",
    "count = Counter(data[:,54])\n",
    "print(count.most_common(3))"
   ]
  },
  {
   "cell_type": "code",
   "execution_count": 4,
   "metadata": {
    "collapsed": true
   },
   "outputs": [],
   "source": [
    "for i in range(len(data[:,54])):\n",
    "    if data[i,54] == 2:\n",
    "        data[i,54] = 1\n",
    "    else:\n",
    "        data[i,54] = 0"
   ]
  },
  {
   "cell_type": "code",
   "execution_count": 5,
   "metadata": {},
   "outputs": [
    {
     "name": "stdout",
     "output_type": "stream",
     "text": [
      "[[  2.59600000e+03   5.10000000e+01   3.00000000e+00 ...,   0.00000000e+00\n",
      "    0.00000000e+00   0.00000000e+00]\n",
      " [  2.59000000e+03   5.60000000e+01   2.00000000e+00 ...,   0.00000000e+00\n",
      "    0.00000000e+00   0.00000000e+00]\n",
      " [  2.80400000e+03   1.39000000e+02   9.00000000e+00 ...,   0.00000000e+00\n",
      "    0.00000000e+00   1.00000000e+00]\n",
      " ..., \n",
      " [  2.38600000e+03   1.59000000e+02   1.70000000e+01 ...,   0.00000000e+00\n",
      "    0.00000000e+00   0.00000000e+00]\n",
      " [  2.38400000e+03   1.70000000e+02   1.50000000e+01 ...,   0.00000000e+00\n",
      "    0.00000000e+00   0.00000000e+00]\n",
      " [  2.38300000e+03   1.65000000e+02   1.30000000e+01 ...,   0.00000000e+00\n",
      "    0.00000000e+00   0.00000000e+00]]\n",
      "(581012, 55)\n",
      "[[-1.29780509 -0.93515698 -1.48281978 ...,  0.          0.          0.        ]\n",
      " [-1.31923485 -0.89047967 -1.61636259 ...,  0.          0.          0.        ]\n",
      " [-0.5549068  -0.14883628 -0.68156292 ...,  0.          0.          1.        ]\n",
      " ..., \n",
      " [-2.04784663  0.02987297  0.38677957 ...,  0.          0.          0.        ]\n",
      " [-2.05498988  0.12816306  0.11969395 ...,  0.          0.          0.        ]\n",
      " [-2.05856151  0.08348575 -0.14739167 ...,  0.          0.          0.        ]]\n"
     ]
    }
   ],
   "source": [
    "print(data)\n",
    "print(data.shape)\n",
    "\n",
    "data_continuous = data[:,0:10]\n",
    "d_s = StandardScaler()\n",
    "d_n = d_s.fit_transform(data_continuous)\n",
    "\n",
    "X_and_Y = np.hstack([d_n, data[:,10:56]])\n",
    "print(X_and_Y)"
   ]
  },
  {
   "cell_type": "code",
   "execution_count": 6,
   "metadata": {},
   "outputs": [
    {
     "name": "stdout",
     "output_type": "stream",
     "text": [
      "(5000, 54) (5000,)\n"
     ]
    }
   ],
   "source": [
    "# Divide data into training and testing sets\n",
    "\n",
    "np.random.shuffle(X_and_Y)\n",
    "\n",
    "# Try to predict the last column (the cover type, which is 7 types)\n",
    "# NOTE: the largest number is \"positive\", while the other ones count as negative. This way it is a binary classification problem\n",
    "X = X_and_Y[:5000,0:-1]\n",
    "Y = X_and_Y[:5000,-1]\n",
    "print(X.shape, Y.shape)"
   ]
  },
  {
   "cell_type": "code",
   "execution_count": 7,
   "metadata": {},
   "outputs": [
    {
     "name": "stdout",
     "output_type": "stream",
     "text": [
      "(1000, 54) (4000, 54) (1000,) (4000,)\n"
     ]
    }
   ],
   "source": [
    "X_train_val = X[:int(0.2*len(X))]\n",
    "X_test      = X[int(0.2*len(X)):]\n",
    "Y_train_val = Y[:int(0.2*len(Y))]\n",
    "Y_test      = Y[int(0.2*len(Y)):]\n",
    "\n",
    "print(X_train_val.shape, X_test.shape, Y_train_val.shape, Y_test.shape)"
   ]
  },
  {
   "cell_type": "code",
   "execution_count": 8,
   "metadata": {},
   "outputs": [
    {
     "data": {
      "text/plain": [
       "{'mean_fit_time': array([  0.04843192,   0.04913421,   0.04763365,   0.0511363 ,\n",
       "          0.05263772,   0.04112859,   0.04172935,   0.05233679,\n",
       "          0.19854059,   1.61334734,  19.23883986]),\n",
       " 'mean_score_time': array([ 0.00910988,  0.00960689,  0.00920682,  0.01000705,  0.01090741,\n",
       "         0.00840573,  0.00750527,  0.00610461,  0.00600462,  0.0060039 ,\n",
       "         0.00560374]),\n",
       " 'mean_test_score': array([ 0.516,  0.516,  0.516,  0.516,  0.517,  0.654,  0.716,  0.75 ,\n",
       "         0.761,  0.762,  0.762]),\n",
       " 'mean_train_score': array([ 0.51600001,  0.51600001,  0.51600001,  0.51600001,  0.51700032,\n",
       "         0.66999886,  0.74274765,  0.77825079,  0.79325081,  0.79625268,\n",
       "         0.79675237]),\n",
       " 'param_C': masked_array(data = [1e-07 1e-06 1e-05 0.0001 0.001 0.01 0.1 1.0 10.0 100.0 1000.0],\n",
       "              mask = [False False False False False False False False False False False],\n",
       "        fill_value = ?),\n",
       " 'params': ({'C': 1e-07},\n",
       "  {'C': 1e-06},\n",
       "  {'C': 1e-05},\n",
       "  {'C': 0.0001},\n",
       "  {'C': 0.001},\n",
       "  {'C': 0.01},\n",
       "  {'C': 0.1},\n",
       "  {'C': 1.0},\n",
       "  {'C': 10.0},\n",
       "  {'C': 100.0},\n",
       "  {'C': 1000.0}),\n",
       " 'rank_test_score': array([8, 8, 8, 8, 7, 6, 5, 4, 3, 1, 1], dtype=int32),\n",
       " 'split0_test_score': array([ 0.51741294,  0.51741294,  0.51741294,  0.51741294,  0.51741294,\n",
       "         0.70149254,  0.73631841,  0.77114428,  0.77114428,  0.77114428,\n",
       "         0.77114428]),\n",
       " 'split0_train_score': array([ 0.51564456,  0.51564456,  0.51564456,  0.51564456,  0.51689612,\n",
       "         0.66833542,  0.73967459,  0.77346683,  0.79474343,  0.79974969,\n",
       "         0.79974969]),\n",
       " 'split1_test_score': array([ 0.515,  0.515,  0.515,  0.515,  0.515,  0.65 ,  0.72 ,  0.765,\n",
       "         0.78 ,  0.78 ,  0.785]),\n",
       " 'split1_train_score': array([ 0.51625,  0.51625,  0.51625,  0.51625,  0.51625,  0.66875,\n",
       "         0.73625,  0.7775 ,  0.79375,  0.79875,  0.8    ]),\n",
       " 'split2_test_score': array([ 0.515,  0.515,  0.515,  0.515,  0.515,  0.63 ,  0.71 ,  0.74 ,\n",
       "         0.77 ,  0.77 ,  0.77 ]),\n",
       " 'split2_train_score': array([ 0.51625,  0.51625,  0.51625,  0.51625,  0.5175 ,  0.67875,\n",
       "         0.74875,  0.7775 ,  0.7825 ,  0.79   ,  0.79   ]),\n",
       " 'split3_test_score': array([ 0.515,  0.515,  0.515,  0.515,  0.515,  0.65 ,  0.715,  0.73 ,\n",
       "         0.725,  0.725,  0.725]),\n",
       " 'split3_train_score': array([ 0.51625,  0.51625,  0.51625,  0.51625,  0.51875,  0.66125,\n",
       "         0.74   ,  0.7925 ,  0.80375,  0.80375,  0.80375]),\n",
       " 'split4_test_score': array([ 0.51758794,  0.51758794,  0.51758794,  0.51758794,  0.52261307,\n",
       "         0.63819095,  0.69849246,  0.74371859,  0.75879397,  0.7638191 ,\n",
       "         0.75879397]),\n",
       " 'split4_train_score': array([ 0.51560549,  0.51560549,  0.51560549,  0.51560549,  0.51560549,\n",
       "         0.67290886,  0.74906367,  0.77028714,  0.79151061,  0.78901373,\n",
       "         0.79026217]),\n",
       " 'std_fit_time': array([  6.61935610e-03,   6.66344687e-03,   2.72966231e-03,\n",
       "          2.35559819e-03,   7.40389276e-03,   9.70242800e-04,\n",
       "          1.88811770e-03,   3.07785574e-03,   3.58969451e-02,\n",
       "          2.43503416e-01,   5.84650879e+00]),\n",
       " 'std_score_time': array([ 0.00019834,  0.00097018,  0.00024534,  0.00151788,  0.00193562,\n",
       "         0.00020006,  0.00104935,  0.00037457,  0.0010005 ,  0.00100074,\n",
       "         0.00020053]),\n",
       " 'std_test_score': array([ 0.00122599,  0.00122599,  0.00122599,  0.00122599,  0.00295027,\n",
       "         0.02499398,  0.01243289,  0.01557931,  0.01921595,  0.01920588,\n",
       "         0.02027936]),\n",
       " 'std_train_score': array([ 0.00030642,  0.00030642,  0.00030642,  0.00030642,  0.00107986,\n",
       "         0.00576055,  0.00519871,  0.00762199,  0.00680174,  0.00576496,\n",
       "         0.00558954])}"
      ]
     },
     "execution_count": 8,
     "metadata": {},
     "output_type": "execute_result"
    }
   ],
   "source": [
    "# SVM process\n",
    "\n",
    "# linear\n",
    "# polynomial degree 2 & 3 (this one is using 3)\n",
    "# radial with width [0.001, 0.005, 0.01, 0.05, 0.1, 0.5, 1, 2]\n",
    "# regularization parameter C = [1e-7, 1e-6, 1e-5, 1e-4, 1e-3]\n",
    "\n",
    "classifier = svm.SVC(kernel='linear')\n",
    "C_list = [1e-7, 1e-6, 1e-5, 1e-4, 1e-3, 1e-2, 1e-1, 1e-0, 1e1, 1e2, 1e3]   \n",
    "params = {\"C\": C_list}\n",
    "\n",
    "GSR = GridSearchCV(classifier, params, return_train_score=True, cv=5, n_jobs=4)\n",
    "GSR.fit(X_train_val,Y_train_val)\n",
    "GSR.cv_results_\n",
    "                               \n",
    "# May also want to try rbf kernel with sigma (radial width values)"
   ]
  },
  {
   "cell_type": "code",
   "execution_count": 9,
   "metadata": {},
   "outputs": [
    {
     "name": "stdout",
     "output_type": "stream",
     "text": [
      "{'C': 100.0}\n",
      "0.7505\n"
     ]
    }
   ],
   "source": [
    "# find best C and best accuracy\n",
    "test_acc = sum(GSR.best_estimator_.predict(X_test) == Y_test) / len(X_test)\n",
    "print(GSR.best_params_)\n",
    "print(test_acc)"
   ]
  },
  {
   "cell_type": "code",
   "execution_count": 10,
   "metadata": {},
   "outputs": [
    {
     "data": {
      "image/png": "[encoded data removed]",
      "text/plain": [
       "<matplotlib.figure.Figure at 0x7af0e50>"
      ]
     },
     "metadata": {},
     "output_type": "display_data"
    },
    {
     "data": {
      "image/png": "[encoded data removed]",
      "text/plain": [
       "<matplotlib.figure.Figure at 0x7b0e0f0>"
      ]
     },
     "metadata": {},
     "output_type": "display_data"
    }
   ],
   "source": [
    "def draw_heatmap_linear(acc, acc_desc, C_list):\n",
    "    plt.figure(figsize = (2,4))\n",
    "    ax = sns.heatmap(acc, annot=True, fmt='.3f', yticklabels=C_list, xticklabels=[])\n",
    "    ax.collections[0].colorbar.set_label(\"accuracy\")\n",
    "    ax.set(ylabel='$C$')\n",
    "    plt.title(acc_desc + ' w.r.t $C$')\n",
    "    sns.set_style(\"whitegrid\", {'axes.grid' : False})\n",
    "    plt.show()\n",
    "    \n",
    "results = GSR.cv_results_\n",
    "\n",
    "train_acc = np.matrix(results.get(\"mean_train_score\")).T\n",
    "draw_heatmap_linear(train_acc, 'train accuracy', C_list)\n",
    "\n",
    "val_acc = np.matrix(results.get(\"mean_test_score\")).T\n",
    "draw_heatmap_linear(val_acc, 'val accuracy', C_list)"
   ]
  },
  {
   "cell_type": "code",
   "execution_count": 11,
   "metadata": {},
   "outputs": [
    {
     "data": {
      "text/plain": [
       "{'mean_fit_time': array([ 0.08425884,  0.083459  ,  0.07855568,  0.08015685,  0.15380888,\n",
       "         0.07825537,  0.06594701,  0.06604605,  0.08546066,  0.08706136,\n",
       "         0.0904635 ,  0.10157127,  0.1811275 ,  0.09426575,  0.06944971,\n",
       "         0.07075009,  0.09296627,  0.10368433,  0.10627513,  0.1066772 ,\n",
       "         0.17532396,  0.09076943,  0.07766833,  0.07905617,  0.09136515,\n",
       "         0.092765  ,  0.09829021,  0.10777626,  0.17682533,  0.09016409,\n",
       "         0.07335253,  0.07275143,  0.08476038,  0.08456306,  0.08696136,\n",
       "         0.09076371,  0.1536088 ,  0.07657146,  0.06524649,  0.0650465 ,\n",
       "         0.08926253,  0.08556032,  0.08556037,  0.09836888,  0.15961208,\n",
       "         0.08035583,  0.06814885,  0.06864796,  0.08776584,  0.08405938,\n",
       "         0.08686113,  0.08976316,  0.16071205,  0.08495994,  0.07295146,\n",
       "         0.06604667,  0.09076371,  0.08986397,  0.09546733,  0.10077109,\n",
       "         0.16511636,  0.09586782,  0.08395872,  0.06294451,  0.11468434,\n",
       "         0.12448783,  0.10527391,  0.1118784 ,  0.16911974,  0.09506698,\n",
       "         0.08185725,  0.06925063,  0.10867701,  0.10937753,  0.11017871,\n",
       "         0.11488152,  0.1865344 ,  0.09526682,  0.07765555,  0.09206448,\n",
       "         0.0983695 ,  0.1087852 ,  0.10167131,  0.10487385,  0.18282938,\n",
       "         0.09956975,  0.08536005,  0.10397382]),\n",
       " 'mean_score_time': array([ 0.0184092 ,  0.01981425,  0.01891375,  0.01861286,  0.02972102,\n",
       "         0.01470981,  0.01511073,  0.01531072,  0.01931362,  0.01861329,\n",
       "         0.01931386,  0.02021475,  0.0344243 ,  0.01761174,  0.01431084,\n",
       "         0.01440978,  0.02171497,  0.02241502,  0.02611904,  0.02381477,\n",
       "         0.0331233 ,  0.01711807,  0.01751246,  0.01711144,  0.02091465,\n",
       "         0.01791272,  0.0236167 ,  0.02601833,  0.03292274,  0.01651111,\n",
       "         0.01531081,  0.0153111 ,  0.02071466,  0.02041793,  0.02021413,\n",
       "         0.02361703,  0.0304213 ,  0.01551409,  0.01401   ,  0.01491008,\n",
       "         0.02011404,  0.01981416,  0.01791234,  0.01971383,  0.02972112,\n",
       "         0.0141098 ,  0.01441031,  0.01601152,  0.01891341,  0.02111483,\n",
       "         0.02131491,  0.01881342,  0.02902045,  0.01521077,  0.01781244,\n",
       "         0.01551108,  0.02011428,  0.02121491,  0.01981397,  0.02201552,\n",
       "         0.02832012,  0.01431003,  0.01431026,  0.01240878,  0.02351651,\n",
       "         0.02491856,  0.02221589,  0.02291646,  0.0317224 ,  0.01801262,\n",
       "         0.0147109 ,  0.00990515,  0.02251596,  0.02281609,  0.02151546,\n",
       "         0.02151513,  0.03142209,  0.0152163 ,  0.01320982,  0.00900664,\n",
       "         0.02131491,  0.02121501,  0.02071519,  0.01951375,  0.03082175,\n",
       "         0.01541095,  0.0138092 ,  0.00890603]),\n",
       " 'mean_test_score': array([ 0.516,  0.516,  0.516,  0.516,  0.516,  0.516,  0.516,  0.516,\n",
       "         0.516,  0.516,  0.516,  0.516,  0.516,  0.516,  0.516,  0.516,\n",
       "         0.516,  0.516,  0.516,  0.516,  0.516,  0.516,  0.516,  0.516,\n",
       "         0.516,  0.516,  0.516,  0.516,  0.516,  0.516,  0.516,  0.516,\n",
       "         0.516,  0.516,  0.516,  0.516,  0.516,  0.516,  0.516,  0.516,\n",
       "         0.516,  0.516,  0.516,  0.516,  0.516,  0.516,  0.516,  0.516,\n",
       "         0.516,  0.516,  0.516,  0.516,  0.516,  0.516,  0.517,  0.683,\n",
       "         0.516,  0.516,  0.516,  0.516,  0.518,  0.601,  0.718,  0.765,\n",
       "         0.516,  0.516,  0.516,  0.518,  0.518,  0.604,  0.7  ,  0.72 ,\n",
       "         0.516,  0.516,  0.516,  0.518,  0.518,  0.604,  0.691,  0.707,\n",
       "         0.516,  0.516,  0.516,  0.518,  0.518,  0.604,  0.691,  0.681]),\n",
       " 'mean_train_score': array([ 0.51600001,  0.51600001,  0.51600001,  0.51600001,  0.51600001,\n",
       "         0.51600001,  0.51600001,  0.51600001,  0.51600001,  0.51600001,\n",
       "         0.51600001,  0.51600001,  0.51600001,  0.51600001,  0.51600001,\n",
       "         0.51600001,  0.51600001,  0.51600001,  0.51600001,  0.51600001,\n",
       "         0.51600001,  0.51600001,  0.51600001,  0.51600001,  0.51600001,\n",
       "         0.51600001,  0.51600001,  0.51600001,  0.51600001,  0.51600001,\n",
       "         0.51600001,  0.51600001,  0.51600001,  0.51600001,  0.51600001,\n",
       "         0.51600001,  0.51600001,  0.51600001,  0.51600001,  0.51600001,\n",
       "         0.51600001,  0.51600001,  0.51600001,  0.51600001,  0.51600001,\n",
       "         0.51600001,  0.51600001,  0.51600001,  0.51600001,  0.51600001,\n",
       "         0.51600001,  0.51600001,  0.51600001,  0.51600001,  0.51850001,\n",
       "         0.7172492 ,  1.        ,  1.        ,  1.        ,  1.        ,\n",
       "         1.        ,  0.99774969,  0.96674904,  0.86700117,  1.        ,\n",
       "         1.        ,  1.        ,  1.        ,  1.        ,  1.        ,\n",
       "         0.99800031,  0.95825091,  1.        ,  1.        ,  1.        ,\n",
       "         1.        ,  1.        ,  1.        ,  1.        ,  0.99574968,\n",
       "         1.        ,  1.        ,  1.        ,  1.        ,  1.        ,\n",
       "         1.        ,  1.        ,  1.        ]),\n",
       " 'param_C': masked_array(data = [1e-07 1e-07 1e-07 1e-07 1e-07 1e-07 1e-07 1e-07 1e-06 1e-06 1e-06 1e-06\n",
       "  1e-06 1e-06 1e-06 1e-06 1e-05 1e-05 1e-05 1e-05 1e-05 1e-05 1e-05 1e-05\n",
       "  0.0001 0.0001 0.0001 0.0001 0.0001 0.0001 0.0001 0.0001 0.001 0.001 0.001\n",
       "  0.001 0.001 0.001 0.001 0.001 0.01 0.01 0.01 0.01 0.01 0.01 0.01 0.01 0.1\n",
       "  0.1 0.1 0.1 0.1 0.1 0.1 0.1 1.0 1.0 1.0 1.0 1.0 1.0 1.0 1.0 10.0 10.0 10.0\n",
       "  10.0 10.0 10.0 10.0 10.0 100.0 100.0 100.0 100.0 100.0 100.0 100.0 100.0\n",
       "  1000.0 1000.0 1000.0 1000.0 1000.0 1000.0 1000.0 1000.0],\n",
       "              mask = [False False False False False False False False False False False False\n",
       "  False False False False False False False False False False False False\n",
       "  False False False False False False False False False False False False\n",
       "  False False False False False False False False False False False False\n",
       "  False False False False False False False False False False False False\n",
       "  False False False False False False False False False False False False\n",
       "  False False False False False False False False False False False False\n",
       "  False False False False],\n",
       "        fill_value = ?),\n",
       " 'param_gamma': masked_array(data = [500000.0 20000.0 5000.0 199.99999999999997 49.99999999999999 2.0 0.5 0.125\n",
       "  500000.0 20000.0 5000.0 199.99999999999997 49.99999999999999 2.0 0.5 0.125\n",
       "  500000.0 20000.0 5000.0 199.99999999999997 49.99999999999999 2.0 0.5 0.125\n",
       "  500000.0 20000.0 5000.0 199.99999999999997 49.99999999999999 2.0 0.5 0.125\n",
       "  500000.0 20000.0 5000.0 199.99999999999997 49.99999999999999 2.0 0.5 0.125\n",
       "  500000.0 20000.0 5000.0 199.99999999999997 49.99999999999999 2.0 0.5 0.125\n",
       "  500000.0 20000.0 5000.0 199.99999999999997 49.99999999999999 2.0 0.5 0.125\n",
       "  500000.0 20000.0 5000.0 199.99999999999997 49.99999999999999 2.0 0.5 0.125\n",
       "  500000.0 20000.0 5000.0 199.99999999999997 49.99999999999999 2.0 0.5 0.125\n",
       "  500000.0 20000.0 5000.0 199.99999999999997 49.99999999999999 2.0 0.5 0.125\n",
       "  500000.0 20000.0 5000.0 199.99999999999997 49.99999999999999 2.0 0.5 0.125],\n",
       "              mask = [False False False False False False False False False False False False\n",
       "  False False False False False False False False False False False False\n",
       "  False False False False False False False False False False False False\n",
       "  False False False False False False False False False False False False\n",
       "  False False False False False False False False False False False False\n",
       "  False False False False False False False False False False False False\n",
       "  False False False False False False False False False False False False\n",
       "  False False False False],\n",
       "        fill_value = ?),\n",
       " 'params': ({'C': 1e-07, 'gamma': 500000.0},\n",
       "  {'C': 1e-07, 'gamma': 20000.0},\n",
       "  {'C': 1e-07, 'gamma': 5000.0},\n",
       "  {'C': 1e-07, 'gamma': 199.99999999999997},\n",
       "  {'C': 1e-07, 'gamma': 49.99999999999999},\n",
       "  {'C': 1e-07, 'gamma': 2.0},\n",
       "  {'C': 1e-07, 'gamma': 0.5},\n",
       "  {'C': 1e-07, 'gamma': 0.125},\n",
       "  {'C': 1e-06, 'gamma': 500000.0},\n",
       "  {'C': 1e-06, 'gamma': 20000.0},\n",
       "  {'C': 1e-06, 'gamma': 5000.0},\n",
       "  {'C': 1e-06, 'gamma': 199.99999999999997},\n",
       "  {'C': 1e-06, 'gamma': 49.99999999999999},\n",
       "  {'C': 1e-06, 'gamma': 2.0},\n",
       "  {'C': 1e-06, 'gamma': 0.5},\n",
       "  {'C': 1e-06, 'gamma': 0.125},\n",
       "  {'C': 1e-05, 'gamma': 500000.0},\n",
       "  {'C': 1e-05, 'gamma': 20000.0},\n",
       "  {'C': 1e-05, 'gamma': 5000.0},\n",
       "  {'C': 1e-05, 'gamma': 199.99999999999997},\n",
       "  {'C': 1e-05, 'gamma': 49.99999999999999},\n",
       "  {'C': 1e-05, 'gamma': 2.0},\n",
       "  {'C': 1e-05, 'gamma': 0.5},\n",
       "  {'C': 1e-05, 'gamma': 0.125},\n",
       "  {'C': 0.0001, 'gamma': 500000.0},\n",
       "  {'C': 0.0001, 'gamma': 20000.0},\n",
       "  {'C': 0.0001, 'gamma': 5000.0},\n",
       "  {'C': 0.0001, 'gamma': 199.99999999999997},\n",
       "  {'C': 0.0001, 'gamma': 49.99999999999999},\n",
       "  {'C': 0.0001, 'gamma': 2.0},\n",
       "  {'C': 0.0001, 'gamma': 0.5},\n",
       "  {'C': 0.0001, 'gamma': 0.125},\n",
       "  {'C': 0.001, 'gamma': 500000.0},\n",
       "  {'C': 0.001, 'gamma': 20000.0},\n",
       "  {'C': 0.001, 'gamma': 5000.0},\n",
       "  {'C': 0.001, 'gamma': 199.99999999999997},\n",
       "  {'C': 0.001, 'gamma': 49.99999999999999},\n",
       "  {'C': 0.001, 'gamma': 2.0},\n",
       "  {'C': 0.001, 'gamma': 0.5},\n",
       "  {'C': 0.001, 'gamma': 0.125},\n",
       "  {'C': 0.01, 'gamma': 500000.0},\n",
       "  {'C': 0.01, 'gamma': 20000.0},\n",
       "  {'C': 0.01, 'gamma': 5000.0},\n",
       "  {'C': 0.01, 'gamma': 199.99999999999997},\n",
       "  {'C': 0.01, 'gamma': 49.99999999999999},\n",
       "  {'C': 0.01, 'gamma': 2.0},\n",
       "  {'C': 0.01, 'gamma': 0.5},\n",
       "  {'C': 0.01, 'gamma': 0.125},\n",
       "  {'C': 0.1, 'gamma': 500000.0},\n",
       "  {'C': 0.1, 'gamma': 20000.0},\n",
       "  {'C': 0.1, 'gamma': 5000.0},\n",
       "  {'C': 0.1, 'gamma': 199.99999999999997},\n",
       "  {'C': 0.1, 'gamma': 49.99999999999999},\n",
       "  {'C': 0.1, 'gamma': 2.0},\n",
       "  {'C': 0.1, 'gamma': 0.5},\n",
       "  {'C': 0.1, 'gamma': 0.125},\n",
       "  {'C': 1.0, 'gamma': 500000.0},\n",
       "  {'C': 1.0, 'gamma': 20000.0},\n",
       "  {'C': 1.0, 'gamma': 5000.0},\n",
       "  {'C': 1.0, 'gamma': 199.99999999999997},\n",
       "  {'C': 1.0, 'gamma': 49.99999999999999},\n",
       "  {'C': 1.0, 'gamma': 2.0},\n",
       "  {'C': 1.0, 'gamma': 0.5},\n",
       "  {'C': 1.0, 'gamma': 0.125},\n",
       "  {'C': 10.0, 'gamma': 500000.0},\n",
       "  {'C': 10.0, 'gamma': 20000.0},\n",
       "  {'C': 10.0, 'gamma': 5000.0},\n",
       "  {'C': 10.0, 'gamma': 199.99999999999997},\n",
       "  {'C': 10.0, 'gamma': 49.99999999999999},\n",
       "  {'C': 10.0, 'gamma': 2.0},\n",
       "  {'C': 10.0, 'gamma': 0.5},\n",
       "  {'C': 10.0, 'gamma': 0.125},\n",
       "  {'C': 100.0, 'gamma': 500000.0},\n",
       "  {'C': 100.0, 'gamma': 20000.0},\n",
       "  {'C': 100.0, 'gamma': 5000.0},\n",
       "  {'C': 100.0, 'gamma': 199.99999999999997},\n",
       "  {'C': 100.0, 'gamma': 49.99999999999999},\n",
       "  {'C': 100.0, 'gamma': 2.0},\n",
       "  {'C': 100.0, 'gamma': 0.5},\n",
       "  {'C': 100.0, 'gamma': 0.125},\n",
       "  {'C': 1000.0, 'gamma': 500000.0},\n",
       "  {'C': 1000.0, 'gamma': 20000.0},\n",
       "  {'C': 1000.0, 'gamma': 5000.0},\n",
       "  {'C': 1000.0, 'gamma': 199.99999999999997},\n",
       "  {'C': 1000.0, 'gamma': 49.99999999999999},\n",
       "  {'C': 1000.0, 'gamma': 2.0},\n",
       "  {'C': 1000.0, 'gamma': 0.5},\n",
       "  {'C': 1000.0, 'gamma': 0.125}),\n",
       " 'rank_test_score': array([22, 22, 22, 22, 22, 22, 22, 22, 22, 22, 22, 22, 22, 22, 22, 22, 22,\n",
       "        22, 22, 22, 22, 22, 22, 22, 22, 22, 22, 22, 22, 22, 22, 22, 22, 22,\n",
       "        22, 22, 22, 22, 22, 22, 22, 22, 22, 22, 22, 22, 22, 22, 22, 22, 22,\n",
       "        22, 22, 22, 21,  8, 22, 22, 22, 22, 14, 13,  3,  1, 22, 22, 22, 14,\n",
       "        14, 10,  5,  2, 22, 22, 22, 14, 14, 10,  6,  4, 22, 22, 22, 14, 14,\n",
       "        10,  6,  9], dtype=int32),\n",
       " 'split0_test_score': array([ 0.51741294,  0.51741294,  0.51741294,  0.51741294,  0.51741294,\n",
       "         0.51741294,  0.51741294,  0.51741294,  0.51741294,  0.51741294,\n",
       "         0.51741294,  0.51741294,  0.51741294,  0.51741294,  0.51741294,\n",
       "         0.51741294,  0.51741294,  0.51741294,  0.51741294,  0.51741294,\n",
       "         0.51741294,  0.51741294,  0.51741294,  0.51741294,  0.51741294,\n",
       "         0.51741294,  0.51741294,  0.51741294,  0.51741294,  0.51741294,\n",
       "         0.51741294,  0.51741294,  0.51741294,  0.51741294,  0.51741294,\n",
       "         0.51741294,  0.51741294,  0.51741294,  0.51741294,  0.51741294,\n",
       "         0.51741294,  0.51741294,  0.51741294,  0.51741294,  0.51741294,\n",
       "         0.51741294,  0.51741294,  0.51741294,  0.51741294,  0.51741294,\n",
       "         0.51741294,  0.51741294,  0.51741294,  0.51741294,  0.51741294,\n",
       "         0.72636816,  0.51741294,  0.51741294,  0.51741294,  0.51741294,\n",
       "         0.51741294,  0.58706468,  0.72139303,  0.76616915,  0.51741294,\n",
       "         0.51741294,  0.51741294,  0.51741294,  0.51741294,  0.58706468,\n",
       "         0.70646766,  0.74129353,  0.51741294,  0.51741294,  0.51741294,\n",
       "         0.51741294,  0.51741294,  0.58706468,  0.68656716,  0.71641791,\n",
       "         0.51741294,  0.51741294,  0.51741294,  0.51741294,  0.51741294,\n",
       "         0.58706468,  0.68656716,  0.65671642]),\n",
       " 'split0_train_score': array([ 0.51564456,  0.51564456,  0.51564456,  0.51564456,  0.51564456,\n",
       "         0.51564456,  0.51564456,  0.51564456,  0.51564456,  0.51564456,\n",
       "         0.51564456,  0.51564456,  0.51564456,  0.51564456,  0.51564456,\n",
       "         0.51564456,  0.51564456,  0.51564456,  0.51564456,  0.51564456,\n",
       "         0.51564456,  0.51564456,  0.51564456,  0.51564456,  0.51564456,\n",
       "         0.51564456,  0.51564456,  0.51564456,  0.51564456,  0.51564456,\n",
       "         0.51564456,  0.51564456,  0.51564456,  0.51564456,  0.51564456,\n",
       "         0.51564456,  0.51564456,  0.51564456,  0.51564456,  0.51564456,\n",
       "         0.51564456,  0.51564456,  0.51564456,  0.51564456,  0.51564456,\n",
       "         0.51564456,  0.51564456,  0.51564456,  0.51564456,  0.51564456,\n",
       "         0.51564456,  0.51564456,  0.51564456,  0.51564456,  0.51689612,\n",
       "         0.718398  ,  1.        ,  1.        ,  1.        ,  1.        ,\n",
       "         1.        ,  0.99624531,  0.96370463,  0.86858573,  1.        ,\n",
       "         1.        ,  1.        ,  1.        ,  1.        ,  1.        ,\n",
       "         0.99749687,  0.95619524,  1.        ,  1.        ,  1.        ,\n",
       "         1.        ,  1.        ,  1.        ,  1.        ,  0.99249061,\n",
       "         1.        ,  1.        ,  1.        ,  1.        ,  1.        ,\n",
       "         1.        ,  1.        ,  1.        ]),\n",
       " 'split1_test_score': array([ 0.515,  0.515,  0.515,  0.515,  0.515,  0.515,  0.515,  0.515,\n",
       "         0.515,  0.515,  0.515,  0.515,  0.515,  0.515,  0.515,  0.515,\n",
       "         0.515,  0.515,  0.515,  0.515,  0.515,  0.515,  0.515,  0.515,\n",
       "         0.515,  0.515,  0.515,  0.515,  0.515,  0.515,  0.515,  0.515,\n",
       "         0.515,  0.515,  0.515,  0.515,  0.515,  0.515,  0.515,  0.515,\n",
       "         0.515,  0.515,  0.515,  0.515,  0.515,  0.515,  0.515,  0.515,\n",
       "         0.515,  0.515,  0.515,  0.515,  0.515,  0.515,  0.52 ,  0.7  ,\n",
       "         0.515,  0.515,  0.515,  0.515,  0.515,  0.625,  0.745,  0.755,\n",
       "         0.515,  0.515,  0.515,  0.515,  0.515,  0.64 ,  0.71 ,  0.7  ,\n",
       "         0.515,  0.515,  0.515,  0.515,  0.515,  0.64 ,  0.7  ,  0.655,\n",
       "         0.515,  0.515,  0.515,  0.515,  0.515,  0.64 ,  0.7  ,  0.62 ]),\n",
       " 'split1_train_score': array([ 0.51625,  0.51625,  0.51625,  0.51625,  0.51625,  0.51625,\n",
       "         0.51625,  0.51625,  0.51625,  0.51625,  0.51625,  0.51625,\n",
       "         0.51625,  0.51625,  0.51625,  0.51625,  0.51625,  0.51625,\n",
       "         0.51625,  0.51625,  0.51625,  0.51625,  0.51625,  0.51625,\n",
       "         0.51625,  0.51625,  0.51625,  0.51625,  0.51625,  0.51625,\n",
       "         0.51625,  0.51625,  0.51625,  0.51625,  0.51625,  0.51625,\n",
       "         0.51625,  0.51625,  0.51625,  0.51625,  0.51625,  0.51625,\n",
       "         0.51625,  0.51625,  0.51625,  0.51625,  0.51625,  0.51625,\n",
       "         0.51625,  0.51625,  0.51625,  0.51625,  0.51625,  0.51625,\n",
       "         0.51875,  0.7075 ,  1.     ,  1.     ,  1.     ,  1.     ,\n",
       "         1.     ,  0.9975 ,  0.97125,  0.85875,  1.     ,  1.     ,\n",
       "         1.     ,  1.     ,  1.     ,  1.     ,  0.99875,  0.9625 ,\n",
       "         1.     ,  1.     ,  1.     ,  1.     ,  1.     ,  1.     ,\n",
       "         1.     ,  0.9975 ,  1.     ,  1.     ,  1.     ,  1.     ,\n",
       "         1.     ,  1.     ,  1.     ,  1.     ]),\n",
       " 'split2_test_score': array([ 0.515,  0.515,  0.515,  0.515,  0.515,  0.515,  0.515,  0.515,\n",
       "         0.515,  0.515,  0.515,  0.515,  0.515,  0.515,  0.515,  0.515,\n",
       "         0.515,  0.515,  0.515,  0.515,  0.515,  0.515,  0.515,  0.515,\n",
       "         0.515,  0.515,  0.515,  0.515,  0.515,  0.515,  0.515,  0.515,\n",
       "         0.515,  0.515,  0.515,  0.515,  0.515,  0.515,  0.515,  0.515,\n",
       "         0.515,  0.515,  0.515,  0.515,  0.515,  0.515,  0.515,  0.515,\n",
       "         0.515,  0.515,  0.515,  0.515,  0.515,  0.515,  0.515,  0.66 ,\n",
       "         0.515,  0.515,  0.515,  0.515,  0.52 ,  0.595,  0.695,  0.77 ,\n",
       "         0.515,  0.515,  0.515,  0.52 ,  0.52 ,  0.595,  0.68 ,  0.7  ,\n",
       "         0.515,  0.515,  0.515,  0.52 ,  0.52 ,  0.595,  0.68 ,  0.7  ,\n",
       "         0.515,  0.515,  0.515,  0.52 ,  0.52 ,  0.595,  0.68 ,  0.69 ]),\n",
       " 'split2_train_score': array([ 0.51625,  0.51625,  0.51625,  0.51625,  0.51625,  0.51625,\n",
       "         0.51625,  0.51625,  0.51625,  0.51625,  0.51625,  0.51625,\n",
       "         0.51625,  0.51625,  0.51625,  0.51625,  0.51625,  0.51625,\n",
       "         0.51625,  0.51625,  0.51625,  0.51625,  0.51625,  0.51625,\n",
       "         0.51625,  0.51625,  0.51625,  0.51625,  0.51625,  0.51625,\n",
       "         0.51625,  0.51625,  0.51625,  0.51625,  0.51625,  0.51625,\n",
       "         0.51625,  0.51625,  0.51625,  0.51625,  0.51625,  0.51625,\n",
       "         0.51625,  0.51625,  0.51625,  0.51625,  0.51625,  0.51625,\n",
       "         0.51625,  0.51625,  0.51625,  0.51625,  0.51625,  0.51625,\n",
       "         0.5175 ,  0.72875,  1.     ,  1.     ,  1.     ,  1.     ,\n",
       "         1.     ,  0.99875,  0.97   ,  0.86625,  1.     ,  1.     ,\n",
       "         1.     ,  1.     ,  1.     ,  1.     ,  0.99875,  0.965  ,\n",
       "         1.     ,  1.     ,  1.     ,  1.     ,  1.     ,  1.     ,\n",
       "         1.     ,  0.9975 ,  1.     ,  1.     ,  1.     ,  1.     ,\n",
       "         1.     ,  1.     ,  1.     ,  1.     ]),\n",
       " 'split3_test_score': array([ 0.515,  0.515,  0.515,  0.515,  0.515,  0.515,  0.515,  0.515,\n",
       "         0.515,  0.515,  0.515,  0.515,  0.515,  0.515,  0.515,  0.515,\n",
       "         0.515,  0.515,  0.515,  0.515,  0.515,  0.515,  0.515,  0.515,\n",
       "         0.515,  0.515,  0.515,  0.515,  0.515,  0.515,  0.515,  0.515,\n",
       "         0.515,  0.515,  0.515,  0.515,  0.515,  0.515,  0.515,  0.515,\n",
       "         0.515,  0.515,  0.515,  0.515,  0.515,  0.515,  0.515,  0.515,\n",
       "         0.515,  0.515,  0.515,  0.515,  0.515,  0.515,  0.515,  0.66 ,\n",
       "         0.515,  0.515,  0.515,  0.515,  0.515,  0.59 ,  0.7  ,  0.735,\n",
       "         0.515,  0.515,  0.515,  0.515,  0.515,  0.6  ,  0.7  ,  0.695,\n",
       "         0.515,  0.515,  0.515,  0.515,  0.515,  0.6  ,  0.68 ,  0.715,\n",
       "         0.515,  0.515,  0.515,  0.515,  0.515,  0.6  ,  0.68 ,  0.705]),\n",
       " 'split3_train_score': array([ 0.51625,  0.51625,  0.51625,  0.51625,  0.51625,  0.51625,\n",
       "         0.51625,  0.51625,  0.51625,  0.51625,  0.51625,  0.51625,\n",
       "         0.51625,  0.51625,  0.51625,  0.51625,  0.51625,  0.51625,\n",
       "         0.51625,  0.51625,  0.51625,  0.51625,  0.51625,  0.51625,\n",
       "         0.51625,  0.51625,  0.51625,  0.51625,  0.51625,  0.51625,\n",
       "         0.51625,  0.51625,  0.51625,  0.51625,  0.51625,  0.51625,\n",
       "         0.51625,  0.51625,  0.51625,  0.51625,  0.51625,  0.51625,\n",
       "         0.51625,  0.51625,  0.51625,  0.51625,  0.51625,  0.51625,\n",
       "         0.51625,  0.51625,  0.51625,  0.51625,  0.51625,  0.51625,\n",
       "         0.5225 ,  0.71   ,  1.     ,  1.     ,  1.     ,  1.     ,\n",
       "         1.     ,  0.99875,  0.96125,  0.8775 ,  1.     ,  1.     ,\n",
       "         1.     ,  1.     ,  1.     ,  1.     ,  0.99875,  0.955  ,\n",
       "         1.     ,  1.     ,  1.     ,  1.     ,  1.     ,  1.     ,\n",
       "         1.     ,  0.9975 ,  1.     ,  1.     ,  1.     ,  1.     ,\n",
       "         1.     ,  1.     ,  1.     ,  1.     ]),\n",
       " 'split4_test_score': array([ 0.51758794,  0.51758794,  0.51758794,  0.51758794,  0.51758794,\n",
       "         0.51758794,  0.51758794,  0.51758794,  0.51758794,  0.51758794,\n",
       "         0.51758794,  0.51758794,  0.51758794,  0.51758794,  0.51758794,\n",
       "         0.51758794,  0.51758794,  0.51758794,  0.51758794,  0.51758794,\n",
       "         0.51758794,  0.51758794,  0.51758794,  0.51758794,  0.51758794,\n",
       "         0.51758794,  0.51758794,  0.51758794,  0.51758794,  0.51758794,\n",
       "         0.51758794,  0.51758794,  0.51758794,  0.51758794,  0.51758794,\n",
       "         0.51758794,  0.51758794,  0.51758794,  0.51758794,  0.51758794,\n",
       "         0.51758794,  0.51758794,  0.51758794,  0.51758794,  0.51758794,\n",
       "         0.51758794,  0.51758794,  0.51758794,  0.51758794,  0.51758794,\n",
       "         0.51758794,  0.51758794,  0.51758794,  0.51758794,  0.51758794,\n",
       "         0.66834171,  0.51758794,  0.51758794,  0.51758794,  0.51758794,\n",
       "         0.52261307,  0.6080402 ,  0.72864322,  0.79899497,  0.51758794,\n",
       "         0.51758794,  0.51758794,  0.52261307,  0.52261307,  0.59798995,\n",
       "         0.70351759,  0.7638191 ,  0.51758794,  0.51758794,  0.51758794,\n",
       "         0.52261307,  0.52261307,  0.59798995,  0.70854271,  0.74874372,\n",
       "         0.51758794,  0.51758794,  0.51758794,  0.52261307,  0.52261307,\n",
       "         0.59798995,  0.70854271,  0.73366834]),\n",
       " 'split4_train_score': array([ 0.51560549,  0.51560549,  0.51560549,  0.51560549,  0.51560549,\n",
       "         0.51560549,  0.51560549,  0.51560549,  0.51560549,  0.51560549,\n",
       "         0.51560549,  0.51560549,  0.51560549,  0.51560549,  0.51560549,\n",
       "         0.51560549,  0.51560549,  0.51560549,  0.51560549,  0.51560549,\n",
       "         0.51560549,  0.51560549,  0.51560549,  0.51560549,  0.51560549,\n",
       "         0.51560549,  0.51560549,  0.51560549,  0.51560549,  0.51560549,\n",
       "         0.51560549,  0.51560549,  0.51560549,  0.51560549,  0.51560549,\n",
       "         0.51560549,  0.51560549,  0.51560549,  0.51560549,  0.51560549,\n",
       "         0.51560549,  0.51560549,  0.51560549,  0.51560549,  0.51560549,\n",
       "         0.51560549,  0.51560549,  0.51560549,  0.51560549,  0.51560549,\n",
       "         0.51560549,  0.51560549,  0.51560549,  0.51560549,  0.51685393,\n",
       "         0.721598  ,  1.        ,  1.        ,  1.        ,  1.        ,\n",
       "         1.        ,  0.99750312,  0.96754057,  0.8639201 ,  1.        ,\n",
       "         1.        ,  1.        ,  1.        ,  1.        ,  1.        ,\n",
       "         0.99625468,  0.9525593 ,  1.        ,  1.        ,  1.        ,\n",
       "         1.        ,  1.        ,  1.        ,  1.        ,  0.9937578 ,\n",
       "         1.        ,  1.        ,  1.        ,  1.        ,  1.        ,\n",
       "         1.        ,  1.        ,  1.        ]),\n",
       " 'std_fit_time': array([ 0.00539432,  0.00704345,  0.00383692,  0.00295679,  0.00730995,\n",
       "         0.00541341,  0.00263594,  0.00195031,  0.00579517,  0.01338807,\n",
       "         0.00675382,  0.00773803,  0.0048203 ,  0.00213864,  0.00708573,\n",
       "         0.00180665,  0.00914719,  0.00191429,  0.00507893,  0.00770245,\n",
       "         0.00412072,  0.00157414,  0.00262962,  0.00392786,  0.00631763,\n",
       "         0.01167227,  0.00343876,  0.00454896,  0.00568437,  0.00336887,\n",
       "         0.00566634,  0.00449356,  0.00299562,  0.00541179,  0.00499759,\n",
       "         0.01043253,  0.01091183,  0.00316299,  0.00116734,  0.00187171,\n",
       "         0.00471048,  0.00333409,  0.00437332,  0.00630959,  0.0067504 ,\n",
       "         0.00378006,  0.00245993,  0.00208529,  0.00922267,  0.00429258,\n",
       "         0.00420518,  0.00583984,  0.00930579,  0.00397   ,  0.00446783,\n",
       "         0.00122577,  0.00555984,  0.00546838,  0.0098121 ,  0.00944332,\n",
       "         0.0066603 ,  0.00459174,  0.00465512,  0.0040329 ,  0.00952754,\n",
       "         0.00679027,  0.01103767,  0.00742547,  0.00660798,  0.00433873,\n",
       "         0.00815218,  0.00677125,  0.01036327,  0.00479495,  0.01052135,\n",
       "         0.00960117,  0.01325448,  0.0043344 ,  0.00362698,  0.00503251,\n",
       "         0.00516696,  0.01431638,  0.01454457,  0.01406915,  0.01092857,\n",
       "         0.00305184,  0.00423923,  0.00812631]),\n",
       " 'std_score_time': array([ 0.00058067,  0.00318968,  0.00239747,  0.0012415 ,  0.00229404,\n",
       "         0.00116659,  0.00196129,  0.00204129,  0.00229442,  0.00159535,\n",
       "         0.00216021,  0.002422  ,  0.00174483,  0.00239777,  0.00040013,\n",
       "         0.00066297,  0.00344694,  0.00115978,  0.00198675,  0.00335681,\n",
       "         0.00073522,  0.00096724,  0.00247189,  0.0015945 ,  0.00313863,\n",
       "         0.00058358,  0.00180113,  0.00217011,  0.00335572,  0.00181814,\n",
       "         0.00201634,  0.00169222,  0.00291095,  0.00139405,  0.00367125,\n",
       "         0.00381619,  0.00288969,  0.00204909,  0.00054786,  0.001114  ,\n",
       "         0.00372294,  0.00206537,  0.00020001,  0.00169222,  0.00276999,\n",
       "         0.00020018,  0.0002003 ,  0.00151766,  0.00165693,  0.00300909,\n",
       "         0.00397271,  0.00050987,  0.00089527,  0.00166266,  0.00213734,\n",
       "         0.00253179,  0.00395803,  0.00265908,  0.00143638,  0.00416265,\n",
       "         0.00103002,  0.0006005 ,  0.00051   ,  0.00120102,  0.00104953,\n",
       "         0.00313884,  0.00347562,  0.00159489,  0.00331338,  0.00219269,\n",
       "         0.00188837,  0.00111538,  0.00209897,  0.00301281,  0.0039144 ,\n",
       "         0.00130521,  0.00280279,  0.00074906,  0.0002446 ,  0.00100045,\n",
       "         0.00222828,  0.00331293,  0.00278749,  0.00176204,  0.00191416,\n",
       "         0.00066373,  0.00081254,  0.00111444]),\n",
       " 'std_test_score': array([ 0.00122599,  0.00122599,  0.00122599,  0.00122599,  0.00122599,\n",
       "         0.00122599,  0.00122599,  0.00122599,  0.00122599,  0.00122599,\n",
       "         0.00122599,  0.00122599,  0.00122599,  0.00122599,  0.00122599,\n",
       "         0.00122599,  0.00122599,  0.00122599,  0.00122599,  0.00122599,\n",
       "         0.00122599,  0.00122599,  0.00122599,  0.00122599,  0.00122599,\n",
       "         0.00122599,  0.00122599,  0.00122599,  0.00122599,  0.00122599,\n",
       "         0.00122599,  0.00122599,  0.00122599,  0.00122599,  0.00122599,\n",
       "         0.00122599,  0.00122599,  0.00122599,  0.00122599,  0.00122599,\n",
       "         0.00122599,  0.00122599,  0.00122599,  0.00122599,  0.00122599,\n",
       "         0.00122599,  0.00122599,  0.00122599,  0.00122599,  0.00122599,\n",
       "         0.00122599,  0.00122599,  0.00122599,  0.00122599,  0.00187165,\n",
       "         0.02627163,  0.00122599,  0.00122599,  0.00122599,  0.00122599,\n",
       "         0.00295027,  0.01398199,  0.01847313,  0.02086266,  0.00122599,\n",
       "         0.00122599,  0.00122599,  0.00295027,  0.00295027,  0.01853202,\n",
       "         0.0105295 ,  0.02753614,  0.00122599,  0.00122599,  0.00122599,\n",
       "         0.00295027,  0.00295027,  0.01853202,  0.0113926 ,  0.03046298,\n",
       "         0.00122599,  0.00122599,  0.00122599,  0.00295027,  0.00295027,\n",
       "         0.01853202,  0.0113926 ,  0.03932105]),\n",
       " 'std_train_score': array([ 0.00030642,  0.00030642,  0.00030642,  0.00030642,  0.00030642,\n",
       "         0.00030642,  0.00030642,  0.00030642,  0.00030642,  0.00030642,\n",
       "         0.00030642,  0.00030642,  0.00030642,  0.00030642,  0.00030642,\n",
       "         0.00030642,  0.00030642,  0.00030642,  0.00030642,  0.00030642,\n",
       "         0.00030642,  0.00030642,  0.00030642,  0.00030642,  0.00030642,\n",
       "         0.00030642,  0.00030642,  0.00030642,  0.00030642,  0.00030642,\n",
       "         0.00030642,  0.00030642,  0.00030642,  0.00030642,  0.00030642,\n",
       "         0.00030642,  0.00030642,  0.00030642,  0.00030642,  0.00030642,\n",
       "         0.00030642,  0.00030642,  0.00030642,  0.00030642,  0.00030642,\n",
       "         0.00030642,  0.00030642,  0.00030642,  0.00030642,  0.00030642,\n",
       "         0.00030642,  0.00030642,  0.00030642,  0.00030642,  0.00211398,\n",
       "         0.00774723,  0.        ,  0.        ,  0.        ,  0.        ,\n",
       "         0.        ,  0.00093676,  0.00376727,  0.0061786 ,  0.        ,\n",
       "         0.        ,  0.        ,  0.        ,  0.        ,  0.        ,\n",
       "         0.00099868,  0.0047073 ,  0.        ,  0.        ,  0.        ,\n",
       "         0.        ,  0.        ,  0.        ,  0.        ,  0.00218082,\n",
       "         0.        ,  0.        ,  0.        ,  0.        ,  0.        ,\n",
       "         0.        ,  0.        ,  0.        ])}"
      ]
     },
     "execution_count": 11,
     "metadata": {},
     "output_type": "execute_result"
    }
   ],
   "source": [
    "def convert_to_gamma(radial_width):\n",
    "    converted = [0]*len(radial_width)\n",
    "    for i in range(len(radial_width)):\n",
    "        gamma = 1/(2*(radial_width[i]**2))\n",
    "        converted[i] = gamma\n",
    "    return converted\n",
    "\n",
    "radial_width = [0.001, 0.005, 0.01, 0.05, 0.1, 0.5, 1, 2]\n",
    "gamma_list = convert_to_gamma(radial_width)\n",
    "\n",
    "# SVM process\n",
    "\n",
    "# rbf\n",
    "# polynomial degree 2 & 3 (this one is using 3)\n",
    "# radial with width [0.001, 0.005, 0.01, 0.05, 0.1, 0.5, 1, 2]\n",
    "# regularization parameter C = [1e-7, 1e-6, 1e-5, 1e-4, 1e-3]\n",
    "\n",
    "classifier = svm.SVC(kernel='rbf')\n",
    "C_list = [1e-7, 1e-6, 1e-5, 1e-4, 1e-3, 1e-2, 1e-1, 1e-0, 1e1, 1e2, 1e3]\n",
    "params = {\"C\": C_list, \"gamma\": gamma_list}\n",
    "\n",
    "GSR = GridSearchCV(classifier, params, return_train_score=True, cv=5, n_jobs=4)\n",
    "GSR.fit(X_train_val,Y_train_val)\n",
    "GSR.cv_results_\n",
    "                               \n",
    "# May also want to try rbf kernel with sigma (radial width values)"
   ]
  },
  {
   "cell_type": "code",
   "execution_count": 12,
   "metadata": {},
   "outputs": [
    {
     "name": "stdout",
     "output_type": "stream",
     "text": [
      "{'C': 1.0, 'gamma': 0.125}\n",
      "0.7535\n"
     ]
    }
   ],
   "source": [
    "# find best C and best accuracy\n",
    "test_acc = sum(GSR.best_estimator_.predict(X_test) == Y_test) / len(X_test)\n",
    "print(GSR.best_params_)\n",
    "print(test_acc)"
   ]
  },
  {
   "cell_type": "code",
   "execution_count": 13,
   "metadata": {},
   "outputs": [
    {
     "data": {
      "image/png": "[encoded data removed]",
      "text/plain": [
       "<matplotlib.figure.Figure at 0x13b1b850>"
      ]
     },
     "metadata": {},
     "output_type": "display_data"
    },
    {
     "data": {
      "image/png": "[encoded data removed]",
      "text/plain": [
       "<matplotlib.figure.Figure at 0xf59ce70>"
      ]
     },
     "metadata": {},
     "output_type": "display_data"
    }
   ],
   "source": [
    "def draw_heatmap_RBF(acc, acc_desc, gamma_list, C_list):\n",
    "    plt.figure(figsize = (5,4))\n",
    "    ax = sns.heatmap(acc, annot=True, fmt='.3f', \n",
    "                     xticklabels=gamma_list, yticklabels=C_list)\n",
    "    ax.collections[0].colorbar.set_label(\"accuracy\")\n",
    "    ax.set(xlabel = '$\\gamma$', ylabel='$C$')\n",
    "    plt.title(acc_desc + ' w.r.t $C$ and $\\gamma$')\n",
    "    sns.set_style(\"whitegrid\", {'axes.grid' : False})\n",
    "    plt.show()   \n",
    "\n",
    "train_acc = GSR.cv_results_['mean_train_score'].reshape(11,8)\n",
    "draw_heatmap_RBF(train_acc, 'train accuracy', gamma_list, C_list)\n",
    "\n",
    "val_acc = GSR.cv_results_['mean_test_score'].reshape(11,8)\n",
    "draw_heatmap_RBF(val_acc, 'val accuracy',gamma_list, C_list)"
   ]
  },
  {
   "cell_type": "code",
   "execution_count": 14,
   "metadata": {},
   "outputs": [
    {
     "data": {
      "text/plain": [
       "array([ 1.,  0.,  1., ...,  1.,  0.,  0.])"
      ]
     },
     "execution_count": 14,
     "metadata": {},
     "output_type": "execute_result"
    }
   ],
   "source": [
    "# KNN\n",
    "k_list = [1,2,3,4,5,6,7,8,9,10,11,12,13,14,15,16,17,18,19,20,21,22,23,24,25,26]\n",
    "#k_list = [1,5,8]\n",
    "params = {\"n_neighbors\": k_list}\n",
    "knn = KNeighborsClassifier(n_neighbors=26)\n",
    "kgs=GridSearchCV(knn, params)\n",
    "knn.fit(X_train_val, Y_train_val)\n",
    "knn.predict(X_test)"
   ]
  },
  {
   "cell_type": "code",
   "execution_count": 15,
   "metadata": {},
   "outputs": [
    {
     "name": "stdout",
     "output_type": "stream",
     "text": [
      "0.71575\n"
     ]
    }
   ],
   "source": [
    "# compute accuracy\n",
    "test_acc = np.sum(knn.predict(X_test)==Y_test) / len(X_test)\n",
    "print(test_acc)"
   ]
  },
  {
   "cell_type": "code",
   "execution_count": 16,
   "metadata": {},
   "outputs": [
    {
     "data": {
      "text/plain": [
       "array([ 1.,  0.,  1., ...,  1.,  0.,  0.])"
      ]
     },
     "execution_count": 16,
     "metadata": {},
     "output_type": "execute_result"
    }
   ],
   "source": [
    "# Random Forest\n",
    "rf = RandomForestClassifier(n_estimators=1024, random_state=0, n_jobs=4)\n",
    "rf.fit(X_train_val, Y_train_val)\n",
    "rf.predict(X_test)"
   ]
  },
  {
   "cell_type": "code",
   "execution_count": 17,
   "metadata": {},
   "outputs": [
    {
     "name": "stdout",
     "output_type": "stream",
     "text": [
      "0.76525\n"
     ]
    }
   ],
   "source": [
    "# compute accuracy\n",
    "test_acc = np.sum(rf.predict(X_test)==Y_test) / len(X_test)\n",
    "print(test_acc)"
   ]
  },
  {
   "cell_type": "code",
   "execution_count": null,
   "metadata": {
    "collapsed": true
   },
   "outputs": [],
   "source": []
  }
 ],
 "metadata": {
  "kernelspec": {
   "display_name": "Python 3",
   "language": "python",
   "name": "python3"
  },
  "language_info": {
   "codemirror_mode": {
    "name": "ipython",
    "version": 3
   },
   "file_extension": ".py",
   "mimetype": "text/x-python",
   "name": "python",
   "nbconvert_exporter": "python",
   "pygments_lexer": "ipython3",
   "version": "3.6.1"
  }
 },
 "nbformat": 4,
 "nbformat_minor": 2
}
