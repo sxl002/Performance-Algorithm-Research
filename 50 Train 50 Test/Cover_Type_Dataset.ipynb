{
 "cells": [
  {
   "cell_type": "code",
   "execution_count": 1,
   "metadata": {
    "collapsed": true
   },
   "outputs": [],
   "source": [
    "import numpy as np\n",
    "import pandas as pd\n",
    "import scipy.io as sio\n",
    "import matplotlib.pyplot as plt\n",
    "import seaborn as sns\n",
    "from sklearn import svm\n",
    "from sklearn.model_selection import RandomizedSearchCV\n",
    "from sklearn.model_selection import GridSearchCV\n",
    "from sklearn.neighbors import KNeighborsClassifier\n",
    "from sklearn.datasets import make_classification\n",
    "from sklearn.ensemble import RandomForestClassifier\n",
    "from sklearn.datasets import make_classification\n",
    "from sklearn.preprocessing import StandardScaler\n",
    "from collections import Counter"
   ]
  },
  {
   "cell_type": "code",
   "execution_count": 2,
   "metadata": {
    "collapsed": true
   },
   "outputs": [],
   "source": [
    "data = np.loadtxt('covtype.data', delimiter=',')\n",
    "#data = np.loadtxt('covtype_7000.data', delimiter=',')"
   ]
  },
  {
   "cell_type": "code",
   "execution_count": 3,
   "metadata": {},
   "outputs": [
    {
     "name": "stdout",
     "output_type": "stream",
     "text": [
      "[(2.0, 283301), (1.0, 211840), (3.0, 35754)]\n"
     ]
    }
   ],
   "source": [
    "# Find the most common classes\n",
    "count = Counter(data[:,54])\n",
    "print(count.most_common(3))"
   ]
  },
  {
   "cell_type": "code",
   "execution_count": 4,
   "metadata": {
    "collapsed": true
   },
   "outputs": [],
   "source": [
    "for i in range(len(data[:,54])):\n",
    "    if data[i,54] == 2:\n",
    "        data[i,54] = 1\n",
    "    else:\n",
    "        data[i,54] = 0"
   ]
  },
  {
   "cell_type": "code",
   "execution_count": 5,
   "metadata": {},
   "outputs": [
    {
     "name": "stdout",
     "output_type": "stream",
     "text": [
      "[[  2.59600000e+03   5.10000000e+01   3.00000000e+00 ...,   0.00000000e+00\n",
      "    0.00000000e+00   0.00000000e+00]\n",
      " [  2.59000000e+03   5.60000000e+01   2.00000000e+00 ...,   0.00000000e+00\n",
      "    0.00000000e+00   0.00000000e+00]\n",
      " [  2.80400000e+03   1.39000000e+02   9.00000000e+00 ...,   0.00000000e+00\n",
      "    0.00000000e+00   1.00000000e+00]\n",
      " ..., \n",
      " [  2.38600000e+03   1.59000000e+02   1.70000000e+01 ...,   0.00000000e+00\n",
      "    0.00000000e+00   0.00000000e+00]\n",
      " [  2.38400000e+03   1.70000000e+02   1.50000000e+01 ...,   0.00000000e+00\n",
      "    0.00000000e+00   0.00000000e+00]\n",
      " [  2.38300000e+03   1.65000000e+02   1.30000000e+01 ...,   0.00000000e+00\n",
      "    0.00000000e+00   0.00000000e+00]]\n",
      "(581012, 55)\n",
      "[[-1.29780509 -0.93515698 -1.48281978 ...,  0.          0.          0.        ]\n",
      " [-1.31923485 -0.89047967 -1.61636259 ...,  0.          0.          0.        ]\n",
      " [-0.5549068  -0.14883628 -0.68156292 ...,  0.          0.          1.        ]\n",
      " ..., \n",
      " [-2.04784663  0.02987297  0.38677957 ...,  0.          0.          0.        ]\n",
      " [-2.05498988  0.12816306  0.11969395 ...,  0.          0.          0.        ]\n",
      " [-2.05856151  0.08348575 -0.14739167 ...,  0.          0.          0.        ]]\n"
     ]
    }
   ],
   "source": [
    "print(data)\n",
    "print(data.shape)\n",
    "\n",
    "data_continuous = data[:,0:10]\n",
    "d_s = StandardScaler()\n",
    "d_n = d_s.fit_transform(data_continuous)\n",
    "\n",
    "X_and_Y = np.hstack([d_n, data[:,10:56]])\n",
    "print(X_and_Y)"
   ]
  },
  {
   "cell_type": "code",
   "execution_count": 6,
   "metadata": {},
   "outputs": [
    {
     "name": "stdout",
     "output_type": "stream",
     "text": [
      "(5000, 54) (5000,)\n"
     ]
    }
   ],
   "source": [
    "# Divide data into training and testing sets\n",
    "\n",
    "np.random.shuffle(X_and_Y)\n",
    "\n",
    "# Try to predict the last column (the cover type, which is 7 types)\n",
    "# NOTE: the largest number is \"positive\", while the other ones count as negative. This way it is a binary classification problem\n",
    "X = X_and_Y[:5000,0:-1]\n",
    "Y = X_and_Y[:5000,-1]\n",
    "print(X.shape, Y.shape)"
   ]
  },
  {
   "cell_type": "code",
   "execution_count": 7,
   "metadata": {},
   "outputs": [
    {
     "name": "stdout",
     "output_type": "stream",
     "text": [
      "(2500, 54) (2500, 54) (2500,) (2500,)\n"
     ]
    }
   ],
   "source": [
    "X_train_val = X[:int(0.5*len(X))]\n",
    "X_test      = X[int(0.5*len(X)):]\n",
    "Y_train_val = Y[:int(0.5*len(Y))]\n",
    "Y_test      = Y[int(0.5*len(Y)):]\n",
    "print(X_train_val.shape, X_test.shape, Y_train_val.shape, Y_test.shape)"
   ]
  },
  {
   "cell_type": "code",
   "execution_count": 17,
   "metadata": {},
   "outputs": [
    {
     "data": {
      "text/plain": [
       "{'mean_fit_time': array([  0.34298344,   0.41178989,   0.32703071,   0.32142682,\n",
       "          0.2966104 ,   0.28960671,   0.26821947,   0.36664047,\n",
       "          1.29862499,   6.86918712,  61.43436427]),\n",
       " 'mean_score_time': array([ 0.07255344,  0.07725439,  0.06644716,  0.06564593,  0.06316352,\n",
       "         0.05824513,  0.04423423,  0.03782659,  0.03692312,  0.03532538,\n",
       "         0.03652601]),\n",
       " 'mean_test_score': array([ 0.5112,  0.5112,  0.5112,  0.5112,  0.6116,  0.7124,  0.7444,\n",
       "         0.7664,  0.7668,  0.768 ,  0.7672]),\n",
       " 'mean_train_score': array([ 0.5112    ,  0.5112    ,  0.5112    ,  0.5112    ,  0.61529817,\n",
       "         0.71860264,  0.7578981 ,  0.77830156,  0.77760131,  0.77760126,\n",
       "         0.77770136]),\n",
       " 'param_C': masked_array(data = [1e-07 1e-06 1e-05 0.0001 0.001 0.01 0.1 1.0 10.0 100.0 1000.0],\n",
       "              mask = [False False False False False False False False False False False],\n",
       "        fill_value = ?),\n",
       " 'params': ({'C': 1e-07},\n",
       "  {'C': 1e-06},\n",
       "  {'C': 1e-05},\n",
       "  {'C': 0.0001},\n",
       "  {'C': 0.001},\n",
       "  {'C': 0.01},\n",
       "  {'C': 0.1},\n",
       "  {'C': 1.0},\n",
       "  {'C': 10.0},\n",
       "  {'C': 100.0},\n",
       "  {'C': 1000.0}),\n",
       " 'rank_test_score': array([8, 8, 8, 8, 7, 6, 5, 4, 3, 1, 2], dtype=int32),\n",
       " 'split0_test_score': array([ 0.51097804,  0.51097804,  0.51097804,  0.51097804,  0.62275449,\n",
       "         0.73053892,  0.76447106,  0.7744511 ,  0.76846307,  0.77045908,\n",
       "         0.76846307]),\n",
       " 'split0_train_score': array([ 0.51125563,  0.51125563,  0.51125563,  0.51125563,  0.6198099 ,\n",
       "         0.71785893,  0.75537769,  0.77888944,  0.77638819,  0.77588794,\n",
       "         0.77638819]),\n",
       " 'split1_test_score': array([ 0.51097804,  0.51097804,  0.51097804,  0.51097804,  0.60878244,\n",
       "         0.67864271,  0.68862275,  0.7245509 ,  0.73652695,  0.73652695,\n",
       "         0.73453094]),\n",
       " 'split1_train_score': array([ 0.51125563,  0.51125563,  0.51125563,  0.51125563,  0.60030015,\n",
       "         0.73086543,  0.75337669,  0.7873937 ,  0.7873937 ,  0.7873937 ,\n",
       "         0.78789395]),\n",
       " 'split2_test_score': array([ 0.512,  0.512,  0.512,  0.512,  0.62 ,  0.694,  0.734,  0.776,\n",
       "         0.774,  0.772,  0.774]),\n",
       " 'split2_train_score': array([ 0.511 ,  0.511 ,  0.511 ,  0.511 ,  0.618 ,  0.722 ,  0.753 ,\n",
       "         0.7745,  0.7735,  0.774 ,  0.7735]),\n",
       " 'split3_test_score': array([ 0.51102204,  0.51102204,  0.51102204,  0.51102204,  0.60320641,\n",
       "         0.72344689,  0.77154309,  0.77955912,  0.78156313,  0.78557114,\n",
       "         0.78356713]),\n",
       " 'split3_train_score': array([ 0.51124438,  0.51124438,  0.51124438,  0.51124438,  0.6151924 ,\n",
       "         0.71764118,  0.76711644,  0.77211394,  0.77111444,  0.77261369,\n",
       "         0.77261369]),\n",
       " 'split4_test_score': array([ 0.51102204,  0.51102204,  0.51102204,  0.51102204,  0.60320641,\n",
       "         0.73547094,  0.76352705,  0.77755511,  0.77354709,  0.7755511 ,\n",
       "         0.7755511 ]),\n",
       " 'split4_train_score': array([ 0.51124438,  0.51124438,  0.51124438,  0.51124438,  0.62318841,\n",
       "         0.70464768,  0.76061969,  0.77861069,  0.77961019,  0.77811094,\n",
       "         0.77811094]),\n",
       " 'std_fit_time': array([  2.65882176e-02,   3.35721544e-02,   2.45980202e-02,\n",
       "          2.30685115e-02,   1.81658342e-02,   9.15467582e-03,\n",
       "          1.05187641e-02,   7.41529723e-03,   1.50150650e-01,\n",
       "          7.39832266e-01,   1.31340690e+01]),\n",
       " 'std_score_time': array([ 0.00386033,  0.01807002,  0.00665573,  0.01097755,  0.0073801 ,\n",
       "         0.00550615,  0.00457525,  0.00285961,  0.00219857,  0.00332744,\n",
       "         0.00557158]),\n",
       " 'std_test_score': array([ 0.00040048,  0.00040048,  0.00040048,  0.00040048,  0.00829227,\n",
       "         0.02219489,  0.03075556,  0.02101887,  0.01572163,  0.016611  ,\n",
       "         0.01705397]),\n",
       " 'std_train_score': array([ 0.00010013,  0.00010013,  0.00010013,  0.00010013,  0.00793553,\n",
       "         0.00846329,  0.00535111,  0.00521242,  0.00566213,  0.0052332 ,\n",
       "         0.00546474])}"
      ]
     },
     "execution_count": 17,
     "metadata": {},
     "output_type": "execute_result"
    }
   ],
   "source": [
    "# SVM process\n",
    "\n",
    "# linear\n",
    "# polynomial degree 2 & 3 (this one is using 3)\n",
    "# radial with width [0.001, 0.005, 0.01, 0.05, 0.1, 0.5, 1, 2]\n",
    "# regularization parameter C = [1e-7, 1e-6, 1e-5, 1e-4, 1e-3]\n",
    "\n",
    "classifier = svm.SVC(kernel='linear')\n",
    "C_list = [1e-7, 1e-6, 1e-5, 1e-4, 1e-3, 1e-2, 1e-1, 1e-0, 1e1, 1e2, 1e3]   \n",
    "params = {\"C\": C_list}\n",
    "\n",
    "GSR = GridSearchCV(classifier, params, return_train_score=True, cv=5, n_jobs=4)\n",
    "GSR.fit(X_train_val,Y_train_val)\n",
    "GSR.cv_results_\n",
    "                               \n",
    "# May also want to try rbf kernel with sigma (radial width values)"
   ]
  },
  {
   "cell_type": "code",
   "execution_count": 18,
   "metadata": {},
   "outputs": [
    {
     "name": "stdout",
     "output_type": "stream",
     "text": [
      "{'C': 100.0}\n",
      "0.7504\n"
     ]
    }
   ],
   "source": [
    "# find best C and best accuracy\n",
    "test_acc = sum(GSR.best_estimator_.predict(X_test) == Y_test) / len(X_test)\n",
    "print(GSR.best_params_)\n",
    "print(test_acc)"
   ]
  },
  {
   "cell_type": "code",
   "execution_count": 19,
   "metadata": {},
   "outputs": [
    {
     "data": {
      "image/png": "[encoded data removed]",
      "text/plain": [
       "<matplotlib.figure.Figure at 0xee24fd0>"
      ]
     },
     "metadata": {},
     "output_type": "display_data"
    },
    {
     "data": {
      "image/png": "[encoded data removed]",
      "text/plain": [
       "<matplotlib.figure.Figure at 0x7adfc50>"
      ]
     },
     "metadata": {},
     "output_type": "display_data"
    }
   ],
   "source": [
    "def draw_heatmap_linear(acc, acc_desc, C_list):\n",
    "    plt.figure(figsize = (2,4))\n",
    "    ax = sns.heatmap(acc, annot=True, fmt='.3f', yticklabels=C_list, xticklabels=[])\n",
    "    ax.collections[0].colorbar.set_label(\"accuracy\")\n",
    "    ax.set(ylabel='$C$')\n",
    "    plt.title(acc_desc + ' w.r.t $C$')\n",
    "    sns.set_style(\"whitegrid\", {'axes.grid' : False})\n",
    "    plt.show()\n",
    "    \n",
    "results = GSR.cv_results_\n",
    "\n",
    "train_acc = np.matrix(results.get(\"mean_train_score\")).T\n",
    "draw_heatmap_linear(train_acc, 'train accuracy', C_list)\n",
    "\n",
    "val_acc = np.matrix(results.get(\"mean_test_score\")).T\n",
    "draw_heatmap_linear(val_acc, 'val accuracy', C_list)"
   ]
  },
  {
   "cell_type": "code",
   "execution_count": 10,
   "metadata": {},
   "outputs": [
    {
     "data": {
      "text/plain": [
       "{'mean_fit_time': array([ 0.58471084,  0.60064321,  0.60877275,  0.61150107,  0.94196687,\n",
       "         0.50638604,  0.44585032,  0.44860187,  0.58276582,  0.61094937,\n",
       "         0.57963681,  0.60571156,  0.98635864,  0.53418961,  0.44406066,\n",
       "         0.43872738,  0.55690255,  0.54739137,  0.61434841,  0.553794  ,\n",
       "         0.9698854 ,  0.50075855,  0.42640114,  0.43000402,  0.52718287,\n",
       "         0.54078736,  0.5382802 ,  0.56433954,  0.95950232,  0.49807372,\n",
       "         0.42921247,  0.42179832,  0.55149035,  0.54928141,  0.56042671,\n",
       "         0.55869417,  0.94677315,  0.49305873,  0.41830249,  0.42039881,\n",
       "         0.56180363,  0.54699984,  0.55609632,  0.5751214 ,  0.98979917,\n",
       "         0.51276212,  0.43230557,  0.42469964,  0.5481976 ,  0.56980734,\n",
       "         0.58863463,  0.58372784,  1.00250907,  0.5520535 ,  0.46703024,\n",
       "         0.42940426,  0.62484188,  0.5830143 ,  0.59772701,  0.62033877,\n",
       "         1.02923307,  0.59504228,  0.46253285,  0.31282458,  0.62554493,\n",
       "         0.63856421,  0.61653519,  0.6628685 ,  1.06164942,  0.5907177 ,\n",
       "         0.50545683,  0.36056371,  0.66569614,  0.67610826,  0.64757648,\n",
       "         0.67087398,  1.07618904,  0.59817686,  0.50925937,  0.62864461,\n",
       "         0.63456588,  0.63225551,  0.64275465,  0.65366759,  1.05934834,\n",
       "         0.59071813,  0.52266951,  0.78358068]),\n",
       " 'mean_score_time': array([ 0.12081399,  0.13329382,  0.12808962,  0.12467465,  0.1861311 ,\n",
       "         0.09236503,  0.09186811,  0.09707303,  0.14260898,  0.12308621,\n",
       "         0.13405538,  0.13619633,  0.18695388,  0.10137191,  0.09699683,\n",
       "         0.09516373,  0.12128525,  0.123387  ,  0.12589149,  0.12699313,\n",
       "         0.18403077,  0.09216924,  0.0943676 ,  0.09017038,  0.11849022,\n",
       "         0.12399077,  0.12561092,  0.12058554,  0.18242941,  0.08846374,\n",
       "         0.08726802,  0.09006705,  0.11808405,  0.12341347,  0.11968503,\n",
       "         0.12568974,  0.1757247 ,  0.08916616,  0.09306359,  0.08926673,\n",
       "         0.1152823 ,  0.12298698,  0.11948466,  0.12058492,  0.18032756,\n",
       "         0.09366679,  0.0908648 ,  0.09216833,  0.1198875 ,  0.1222877 ,\n",
       "         0.11818786,  0.12699304,  0.18153205,  0.10557833,  0.09516711,\n",
       "         0.08375835,  0.1140142 ,  0.11748295,  0.12548857,  0.12518854,\n",
       "         0.17672439,  0.09226518,  0.08096519,  0.0590466 ,  0.11308074,\n",
       "         0.11477923,  0.12468805,  0.1231904 ,  0.17912683,  0.0890636 ,\n",
       "         0.07745543,  0.0491354 ,  0.11748381,  0.12048512,  0.12109795,\n",
       "         0.12369103,  0.18112836,  0.09426675,  0.07565379,  0.0463335 ,\n",
       "         0.12819233,  0.11978531,  0.11808319,  0.12378392,  0.17932687,\n",
       "         0.09446673,  0.07675524,  0.04043193]),\n",
       " 'mean_test_score': array([ 0.5112,  0.5112,  0.5112,  0.5112,  0.5112,  0.5112,  0.5112,\n",
       "         0.5112,  0.5112,  0.5112,  0.5112,  0.5112,  0.5112,  0.5112,\n",
       "         0.5112,  0.5112,  0.5112,  0.5112,  0.5112,  0.5112,  0.5112,\n",
       "         0.5112,  0.5112,  0.5112,  0.5112,  0.5112,  0.5112,  0.5112,\n",
       "         0.5112,  0.5112,  0.5112,  0.5112,  0.5112,  0.5112,  0.5112,\n",
       "         0.5112,  0.5112,  0.5112,  0.5112,  0.5112,  0.5112,  0.5112,\n",
       "         0.5112,  0.5112,  0.5112,  0.5112,  0.5112,  0.5112,  0.5112,\n",
       "         0.5112,  0.5112,  0.5112,  0.5112,  0.5112,  0.592 ,  0.7272,\n",
       "         0.5112,  0.5112,  0.5112,  0.5112,  0.5136,  0.6972,  0.794 ,\n",
       "         0.7848,  0.5112,  0.5112,  0.5112,  0.5112,  0.5144,  0.7   ,\n",
       "         0.7724,  0.7892,  0.5112,  0.5112,  0.5112,  0.5112,  0.5144,\n",
       "         0.7   ,  0.7664,  0.7692,  0.5112,  0.5112,  0.5112,  0.5112,\n",
       "         0.5144,  0.7   ,  0.7664,  0.7372]),\n",
       " 'mean_train_score': array([ 0.5112    ,  0.5112    ,  0.5112    ,  0.5112    ,  0.5112    ,\n",
       "         0.5112    ,  0.5112    ,  0.5112    ,  0.5112    ,  0.5112    ,\n",
       "         0.5112    ,  0.5112    ,  0.5112    ,  0.5112    ,  0.5112    ,\n",
       "         0.5112    ,  0.5112    ,  0.5112    ,  0.5112    ,  0.5112    ,\n",
       "         0.5112    ,  0.5112    ,  0.5112    ,  0.5112    ,  0.5112    ,\n",
       "         0.5112    ,  0.5112    ,  0.5112    ,  0.5112    ,  0.5112    ,\n",
       "         0.5112    ,  0.5112    ,  0.5112    ,  0.5112    ,  0.5112    ,\n",
       "         0.5112    ,  0.5112    ,  0.5112    ,  0.5112    ,  0.5112    ,\n",
       "         0.5112    ,  0.5112    ,  0.5112    ,  0.5112    ,  0.5112    ,\n",
       "         0.5112    ,  0.5112    ,  0.5112    ,  0.5112    ,  0.5112    ,\n",
       "         0.5112    ,  0.5112    ,  0.5112    ,  0.5112    ,  0.62610187,\n",
       "         0.7533015 ,  1.        ,  1.        ,  1.        ,  1.        ,\n",
       "         1.        ,  0.9975998 ,  0.95239859,  0.85329892,  1.        ,\n",
       "         1.        ,  1.        ,  1.        ,  1.        ,  1.        ,\n",
       "         0.9973999 ,  0.93279974,  1.        ,  1.        ,  1.        ,\n",
       "         1.        ,  1.        ,  1.        ,  1.        ,  0.9853999 ,\n",
       "         1.        ,  1.        ,  1.        ,  1.        ,  1.        ,\n",
       "         1.        ,  1.        ,  0.9995    ]),\n",
       " 'param_C': masked_array(data = [1e-07 1e-07 1e-07 1e-07 1e-07 1e-07 1e-07 1e-07 1e-06 1e-06 1e-06 1e-06\n",
       "  1e-06 1e-06 1e-06 1e-06 1e-05 1e-05 1e-05 1e-05 1e-05 1e-05 1e-05 1e-05\n",
       "  0.0001 0.0001 0.0001 0.0001 0.0001 0.0001 0.0001 0.0001 0.001 0.001 0.001\n",
       "  0.001 0.001 0.001 0.001 0.001 0.01 0.01 0.01 0.01 0.01 0.01 0.01 0.01 0.1\n",
       "  0.1 0.1 0.1 0.1 0.1 0.1 0.1 1.0 1.0 1.0 1.0 1.0 1.0 1.0 1.0 10.0 10.0 10.0\n",
       "  10.0 10.0 10.0 10.0 10.0 100.0 100.0 100.0 100.0 100.0 100.0 100.0 100.0\n",
       "  1000.0 1000.0 1000.0 1000.0 1000.0 1000.0 1000.0 1000.0],\n",
       "              mask = [False False False False False False False False False False False False\n",
       "  False False False False False False False False False False False False\n",
       "  False False False False False False False False False False False False\n",
       "  False False False False False False False False False False False False\n",
       "  False False False False False False False False False False False False\n",
       "  False False False False False False False False False False False False\n",
       "  False False False False False False False False False False False False\n",
       "  False False False False],\n",
       "        fill_value = ?),\n",
       " 'param_gamma': masked_array(data = [500000.0 20000.0 5000.0 199.99999999999997 49.99999999999999 2.0 0.5 0.125\n",
       "  500000.0 20000.0 5000.0 199.99999999999997 49.99999999999999 2.0 0.5 0.125\n",
       "  500000.0 20000.0 5000.0 199.99999999999997 49.99999999999999 2.0 0.5 0.125\n",
       "  500000.0 20000.0 5000.0 199.99999999999997 49.99999999999999 2.0 0.5 0.125\n",
       "  500000.0 20000.0 5000.0 199.99999999999997 49.99999999999999 2.0 0.5 0.125\n",
       "  500000.0 20000.0 5000.0 199.99999999999997 49.99999999999999 2.0 0.5 0.125\n",
       "  500000.0 20000.0 5000.0 199.99999999999997 49.99999999999999 2.0 0.5 0.125\n",
       "  500000.0 20000.0 5000.0 199.99999999999997 49.99999999999999 2.0 0.5 0.125\n",
       "  500000.0 20000.0 5000.0 199.99999999999997 49.99999999999999 2.0 0.5 0.125\n",
       "  500000.0 20000.0 5000.0 199.99999999999997 49.99999999999999 2.0 0.5 0.125\n",
       "  500000.0 20000.0 5000.0 199.99999999999997 49.99999999999999 2.0 0.5 0.125],\n",
       "              mask = [False False False False False False False False False False False False\n",
       "  False False False False False False False False False False False False\n",
       "  False False False False False False False False False False False False\n",
       "  False False False False False False False False False False False False\n",
       "  False False False False False False False False False False False False\n",
       "  False False False False False False False False False False False False\n",
       "  False False False False False False False False False False False False\n",
       "  False False False False],\n",
       "        fill_value = ?),\n",
       " 'params': ({'C': 1e-07, 'gamma': 500000.0},\n",
       "  {'C': 1e-07, 'gamma': 20000.0},\n",
       "  {'C': 1e-07, 'gamma': 5000.0},\n",
       "  {'C': 1e-07, 'gamma': 199.99999999999997},\n",
       "  {'C': 1e-07, 'gamma': 49.99999999999999},\n",
       "  {'C': 1e-07, 'gamma': 2.0},\n",
       "  {'C': 1e-07, 'gamma': 0.5},\n",
       "  {'C': 1e-07, 'gamma': 0.125},\n",
       "  {'C': 1e-06, 'gamma': 500000.0},\n",
       "  {'C': 1e-06, 'gamma': 20000.0},\n",
       "  {'C': 1e-06, 'gamma': 5000.0},\n",
       "  {'C': 1e-06, 'gamma': 199.99999999999997},\n",
       "  {'C': 1e-06, 'gamma': 49.99999999999999},\n",
       "  {'C': 1e-06, 'gamma': 2.0},\n",
       "  {'C': 1e-06, 'gamma': 0.5},\n",
       "  {'C': 1e-06, 'gamma': 0.125},\n",
       "  {'C': 1e-05, 'gamma': 500000.0},\n",
       "  {'C': 1e-05, 'gamma': 20000.0},\n",
       "  {'C': 1e-05, 'gamma': 5000.0},\n",
       "  {'C': 1e-05, 'gamma': 199.99999999999997},\n",
       "  {'C': 1e-05, 'gamma': 49.99999999999999},\n",
       "  {'C': 1e-05, 'gamma': 2.0},\n",
       "  {'C': 1e-05, 'gamma': 0.5},\n",
       "  {'C': 1e-05, 'gamma': 0.125},\n",
       "  {'C': 0.0001, 'gamma': 500000.0},\n",
       "  {'C': 0.0001, 'gamma': 20000.0},\n",
       "  {'C': 0.0001, 'gamma': 5000.0},\n",
       "  {'C': 0.0001, 'gamma': 199.99999999999997},\n",
       "  {'C': 0.0001, 'gamma': 49.99999999999999},\n",
       "  {'C': 0.0001, 'gamma': 2.0},\n",
       "  {'C': 0.0001, 'gamma': 0.5},\n",
       "  {'C': 0.0001, 'gamma': 0.125},\n",
       "  {'C': 0.001, 'gamma': 500000.0},\n",
       "  {'C': 0.001, 'gamma': 20000.0},\n",
       "  {'C': 0.001, 'gamma': 5000.0},\n",
       "  {'C': 0.001, 'gamma': 199.99999999999997},\n",
       "  {'C': 0.001, 'gamma': 49.99999999999999},\n",
       "  {'C': 0.001, 'gamma': 2.0},\n",
       "  {'C': 0.001, 'gamma': 0.5},\n",
       "  {'C': 0.001, 'gamma': 0.125},\n",
       "  {'C': 0.01, 'gamma': 500000.0},\n",
       "  {'C': 0.01, 'gamma': 20000.0},\n",
       "  {'C': 0.01, 'gamma': 5000.0},\n",
       "  {'C': 0.01, 'gamma': 199.99999999999997},\n",
       "  {'C': 0.01, 'gamma': 49.99999999999999},\n",
       "  {'C': 0.01, 'gamma': 2.0},\n",
       "  {'C': 0.01, 'gamma': 0.5},\n",
       "  {'C': 0.01, 'gamma': 0.125},\n",
       "  {'C': 0.1, 'gamma': 500000.0},\n",
       "  {'C': 0.1, 'gamma': 20000.0},\n",
       "  {'C': 0.1, 'gamma': 5000.0},\n",
       "  {'C': 0.1, 'gamma': 199.99999999999997},\n",
       "  {'C': 0.1, 'gamma': 49.99999999999999},\n",
       "  {'C': 0.1, 'gamma': 2.0},\n",
       "  {'C': 0.1, 'gamma': 0.5},\n",
       "  {'C': 0.1, 'gamma': 0.125},\n",
       "  {'C': 1.0, 'gamma': 500000.0},\n",
       "  {'C': 1.0, 'gamma': 20000.0},\n",
       "  {'C': 1.0, 'gamma': 5000.0},\n",
       "  {'C': 1.0, 'gamma': 199.99999999999997},\n",
       "  {'C': 1.0, 'gamma': 49.99999999999999},\n",
       "  {'C': 1.0, 'gamma': 2.0},\n",
       "  {'C': 1.0, 'gamma': 0.5},\n",
       "  {'C': 1.0, 'gamma': 0.125},\n",
       "  {'C': 10.0, 'gamma': 500000.0},\n",
       "  {'C': 10.0, 'gamma': 20000.0},\n",
       "  {'C': 10.0, 'gamma': 5000.0},\n",
       "  {'C': 10.0, 'gamma': 199.99999999999997},\n",
       "  {'C': 10.0, 'gamma': 49.99999999999999},\n",
       "  {'C': 10.0, 'gamma': 2.0},\n",
       "  {'C': 10.0, 'gamma': 0.5},\n",
       "  {'C': 10.0, 'gamma': 0.125},\n",
       "  {'C': 100.0, 'gamma': 500000.0},\n",
       "  {'C': 100.0, 'gamma': 20000.0},\n",
       "  {'C': 100.0, 'gamma': 5000.0},\n",
       "  {'C': 100.0, 'gamma': 199.99999999999997},\n",
       "  {'C': 100.0, 'gamma': 49.99999999999999},\n",
       "  {'C': 100.0, 'gamma': 2.0},\n",
       "  {'C': 100.0, 'gamma': 0.5},\n",
       "  {'C': 100.0, 'gamma': 0.125},\n",
       "  {'C': 1000.0, 'gamma': 500000.0},\n",
       "  {'C': 1000.0, 'gamma': 20000.0},\n",
       "  {'C': 1000.0, 'gamma': 5000.0},\n",
       "  {'C': 1000.0, 'gamma': 199.99999999999997},\n",
       "  {'C': 1000.0, 'gamma': 49.99999999999999},\n",
       "  {'C': 1000.0, 'gamma': 2.0},\n",
       "  {'C': 1000.0, 'gamma': 0.5},\n",
       "  {'C': 1000.0, 'gamma': 0.125}),\n",
       " 'rank_test_score': array([19, 19, 19, 19, 19, 19, 19, 19, 19, 19, 19, 19, 19, 19, 19, 19, 19,\n",
       "        19, 19, 19, 19, 19, 19, 19, 19, 19, 19, 19, 19, 19, 19, 19, 19, 19,\n",
       "        19, 19, 19, 19, 19, 19, 19, 19, 19, 19, 19, 19, 19, 19, 19, 19, 19,\n",
       "        19, 19, 19, 14,  9, 19, 19, 19, 19, 18, 13,  1,  3, 19, 19, 19, 19,\n",
       "        15, 10,  4,  2, 19, 19, 19, 19, 15, 10,  6,  5, 19, 19, 19, 19, 15,\n",
       "        10,  6,  8], dtype=int32),\n",
       " 'split0_test_score': array([ 0.51097804,  0.51097804,  0.51097804,  0.51097804,  0.51097804,\n",
       "         0.51097804,  0.51097804,  0.51097804,  0.51097804,  0.51097804,\n",
       "         0.51097804,  0.51097804,  0.51097804,  0.51097804,  0.51097804,\n",
       "         0.51097804,  0.51097804,  0.51097804,  0.51097804,  0.51097804,\n",
       "         0.51097804,  0.51097804,  0.51097804,  0.51097804,  0.51097804,\n",
       "         0.51097804,  0.51097804,  0.51097804,  0.51097804,  0.51097804,\n",
       "         0.51097804,  0.51097804,  0.51097804,  0.51097804,  0.51097804,\n",
       "         0.51097804,  0.51097804,  0.51097804,  0.51097804,  0.51097804,\n",
       "         0.51097804,  0.51097804,  0.51097804,  0.51097804,  0.51097804,\n",
       "         0.51097804,  0.51097804,  0.51097804,  0.51097804,  0.51097804,\n",
       "         0.51097804,  0.51097804,  0.51097804,  0.51097804,  0.6007984 ,\n",
       "         0.73253493,  0.51097804,  0.51097804,  0.51097804,  0.51097804,\n",
       "         0.51497006,  0.7005988 ,  0.79041916,  0.79640719,  0.51097804,\n",
       "         0.51097804,  0.51097804,  0.51097804,  0.51497006,  0.69061876,\n",
       "         0.76846307,  0.78842315,  0.51097804,  0.51097804,  0.51097804,\n",
       "         0.51097804,  0.51497006,  0.69061876,  0.74051896,  0.75848303,\n",
       "         0.51097804,  0.51097804,  0.51097804,  0.51097804,  0.51497006,\n",
       "         0.69061876,  0.74051896,  0.72255489]),\n",
       " 'split0_train_score': array([ 0.51125563,  0.51125563,  0.51125563,  0.51125563,  0.51125563,\n",
       "         0.51125563,  0.51125563,  0.51125563,  0.51125563,  0.51125563,\n",
       "         0.51125563,  0.51125563,  0.51125563,  0.51125563,  0.51125563,\n",
       "         0.51125563,  0.51125563,  0.51125563,  0.51125563,  0.51125563,\n",
       "         0.51125563,  0.51125563,  0.51125563,  0.51125563,  0.51125563,\n",
       "         0.51125563,  0.51125563,  0.51125563,  0.51125563,  0.51125563,\n",
       "         0.51125563,  0.51125563,  0.51125563,  0.51125563,  0.51125563,\n",
       "         0.51125563,  0.51125563,  0.51125563,  0.51125563,  0.51125563,\n",
       "         0.51125563,  0.51125563,  0.51125563,  0.51125563,  0.51125563,\n",
       "         0.51125563,  0.51125563,  0.51125563,  0.51125563,  0.51125563,\n",
       "         0.51125563,  0.51125563,  0.51125563,  0.51125563,  0.62881441,\n",
       "         0.74887444,  1.        ,  1.        ,  1.        ,  1.        ,\n",
       "         1.        ,  0.99749875,  0.94847424,  0.85292646,  1.        ,\n",
       "         1.        ,  1.        ,  1.        ,  1.        ,  1.        ,\n",
       "         0.9969985 ,  0.93396698,  1.        ,  1.        ,  1.        ,\n",
       "         1.        ,  1.        ,  1.        ,  1.        ,  0.98349175,\n",
       "         1.        ,  1.        ,  1.        ,  1.        ,  1.        ,\n",
       "         1.        ,  1.        ,  0.99949975]),\n",
       " 'split1_test_score': array([ 0.51097804,  0.51097804,  0.51097804,  0.51097804,  0.51097804,\n",
       "         0.51097804,  0.51097804,  0.51097804,  0.51097804,  0.51097804,\n",
       "         0.51097804,  0.51097804,  0.51097804,  0.51097804,  0.51097804,\n",
       "         0.51097804,  0.51097804,  0.51097804,  0.51097804,  0.51097804,\n",
       "         0.51097804,  0.51097804,  0.51097804,  0.51097804,  0.51097804,\n",
       "         0.51097804,  0.51097804,  0.51097804,  0.51097804,  0.51097804,\n",
       "         0.51097804,  0.51097804,  0.51097804,  0.51097804,  0.51097804,\n",
       "         0.51097804,  0.51097804,  0.51097804,  0.51097804,  0.51097804,\n",
       "         0.51097804,  0.51097804,  0.51097804,  0.51097804,  0.51097804,\n",
       "         0.51097804,  0.51097804,  0.51097804,  0.51097804,  0.51097804,\n",
       "         0.51097804,  0.51097804,  0.51097804,  0.51097804,  0.5988024 ,\n",
       "         0.73852295,  0.51097804,  0.51097804,  0.51097804,  0.51097804,\n",
       "         0.51097804,  0.69061876,  0.78642715,  0.76846307,  0.51097804,\n",
       "         0.51097804,  0.51097804,  0.51097804,  0.51097804,  0.70459082,\n",
       "         0.750499  ,  0.76447106,  0.51097804,  0.51097804,  0.51097804,\n",
       "         0.51097804,  0.51097804,  0.70459082,  0.74850299,  0.73053892,\n",
       "         0.51097804,  0.51097804,  0.51097804,  0.51097804,  0.51097804,\n",
       "         0.70459082,  0.74850299,  0.72854291]),\n",
       " 'split1_train_score': array([ 0.51125563,  0.51125563,  0.51125563,  0.51125563,  0.51125563,\n",
       "         0.51125563,  0.51125563,  0.51125563,  0.51125563,  0.51125563,\n",
       "         0.51125563,  0.51125563,  0.51125563,  0.51125563,  0.51125563,\n",
       "         0.51125563,  0.51125563,  0.51125563,  0.51125563,  0.51125563,\n",
       "         0.51125563,  0.51125563,  0.51125563,  0.51125563,  0.51125563,\n",
       "         0.51125563,  0.51125563,  0.51125563,  0.51125563,  0.51125563,\n",
       "         0.51125563,  0.51125563,  0.51125563,  0.51125563,  0.51125563,\n",
       "         0.51125563,  0.51125563,  0.51125563,  0.51125563,  0.51125563,\n",
       "         0.51125563,  0.51125563,  0.51125563,  0.51125563,  0.51125563,\n",
       "         0.51125563,  0.51125563,  0.51125563,  0.51125563,  0.51125563,\n",
       "         0.51125563,  0.51125563,  0.51125563,  0.51125563,  0.63031516,\n",
       "         0.76338169,  1.        ,  1.        ,  1.        ,  1.        ,\n",
       "         1.        ,  0.9969985 ,  0.94847424,  0.84842421,  1.        ,\n",
       "         1.        ,  1.        ,  1.        ,  1.        ,  1.        ,\n",
       "         0.997999  ,  0.92846423,  1.        ,  1.        ,  1.        ,\n",
       "         1.        ,  1.        ,  1.        ,  1.        ,  0.985993  ,\n",
       "         1.        ,  1.        ,  1.        ,  1.        ,  1.        ,\n",
       "         1.        ,  1.        ,  0.99949975]),\n",
       " 'split2_test_score': array([ 0.512,  0.512,  0.512,  0.512,  0.512,  0.512,  0.512,  0.512,\n",
       "         0.512,  0.512,  0.512,  0.512,  0.512,  0.512,  0.512,  0.512,\n",
       "         0.512,  0.512,  0.512,  0.512,  0.512,  0.512,  0.512,  0.512,\n",
       "         0.512,  0.512,  0.512,  0.512,  0.512,  0.512,  0.512,  0.512,\n",
       "         0.512,  0.512,  0.512,  0.512,  0.512,  0.512,  0.512,  0.512,\n",
       "         0.512,  0.512,  0.512,  0.512,  0.512,  0.512,  0.512,  0.512,\n",
       "         0.512,  0.512,  0.512,  0.512,  0.512,  0.512,  0.576,  0.722,\n",
       "         0.512,  0.512,  0.512,  0.512,  0.516,  0.696,  0.796,  0.78 ,\n",
       "         0.512,  0.512,  0.512,  0.512,  0.518,  0.696,  0.768,  0.804,\n",
       "         0.512,  0.512,  0.512,  0.512,  0.518,  0.696,  0.766,  0.768,\n",
       "         0.512,  0.512,  0.512,  0.512,  0.518,  0.696,  0.766,  0.738]),\n",
       " 'split2_train_score': array([ 0.511 ,  0.511 ,  0.511 ,  0.511 ,  0.511 ,  0.511 ,  0.511 ,\n",
       "         0.511 ,  0.511 ,  0.511 ,  0.511 ,  0.511 ,  0.511 ,  0.511 ,\n",
       "         0.511 ,  0.511 ,  0.511 ,  0.511 ,  0.511 ,  0.511 ,  0.511 ,\n",
       "         0.511 ,  0.511 ,  0.511 ,  0.511 ,  0.511 ,  0.511 ,  0.511 ,\n",
       "         0.511 ,  0.511 ,  0.511 ,  0.511 ,  0.511 ,  0.511 ,  0.511 ,\n",
       "         0.511 ,  0.511 ,  0.511 ,  0.511 ,  0.511 ,  0.511 ,  0.511 ,\n",
       "         0.511 ,  0.511 ,  0.511 ,  0.511 ,  0.511 ,  0.511 ,  0.511 ,\n",
       "         0.511 ,  0.511 ,  0.511 ,  0.511 ,  0.511 ,  0.631 ,  0.757 ,\n",
       "         1.    ,  1.    ,  1.    ,  1.    ,  1.    ,  0.997 ,  0.954 ,\n",
       "         0.853 ,  1.    ,  1.    ,  1.    ,  1.    ,  1.    ,  1.    ,\n",
       "         0.996 ,  0.9365,  1.    ,  1.    ,  1.    ,  1.    ,  1.    ,\n",
       "         1.    ,  1.    ,  0.987 ,  1.    ,  1.    ,  1.    ,  1.    ,\n",
       "         1.    ,  1.    ,  1.    ,  0.9995]),\n",
       " 'split3_test_score': array([ 0.51102204,  0.51102204,  0.51102204,  0.51102204,  0.51102204,\n",
       "         0.51102204,  0.51102204,  0.51102204,  0.51102204,  0.51102204,\n",
       "         0.51102204,  0.51102204,  0.51102204,  0.51102204,  0.51102204,\n",
       "         0.51102204,  0.51102204,  0.51102204,  0.51102204,  0.51102204,\n",
       "         0.51102204,  0.51102204,  0.51102204,  0.51102204,  0.51102204,\n",
       "         0.51102204,  0.51102204,  0.51102204,  0.51102204,  0.51102204,\n",
       "         0.51102204,  0.51102204,  0.51102204,  0.51102204,  0.51102204,\n",
       "         0.51102204,  0.51102204,  0.51102204,  0.51102204,  0.51102204,\n",
       "         0.51102204,  0.51102204,  0.51102204,  0.51102204,  0.51102204,\n",
       "         0.51102204,  0.51102204,  0.51102204,  0.51102204,  0.51102204,\n",
       "         0.51102204,  0.51102204,  0.51102204,  0.51102204,  0.6012024 ,\n",
       "         0.72344689,  0.51102204,  0.51102204,  0.51102204,  0.51102204,\n",
       "         0.51102204,  0.68537074,  0.79559118,  0.79158317,  0.51102204,\n",
       "         0.51102204,  0.51102204,  0.51102204,  0.51302605,  0.69338677,\n",
       "         0.76753507,  0.80561122,  0.51102204,  0.51102204,  0.51102204,\n",
       "         0.51102204,  0.51302605,  0.69338677,  0.77354709,  0.78356713,\n",
       "         0.51102204,  0.51102204,  0.51102204,  0.51102204,  0.51302605,\n",
       "         0.69338677,  0.77354709,  0.74549098]),\n",
       " 'split3_train_score': array([ 0.51124438,  0.51124438,  0.51124438,  0.51124438,  0.51124438,\n",
       "         0.51124438,  0.51124438,  0.51124438,  0.51124438,  0.51124438,\n",
       "         0.51124438,  0.51124438,  0.51124438,  0.51124438,  0.51124438,\n",
       "         0.51124438,  0.51124438,  0.51124438,  0.51124438,  0.51124438,\n",
       "         0.51124438,  0.51124438,  0.51124438,  0.51124438,  0.51124438,\n",
       "         0.51124438,  0.51124438,  0.51124438,  0.51124438,  0.51124438,\n",
       "         0.51124438,  0.51124438,  0.51124438,  0.51124438,  0.51124438,\n",
       "         0.51124438,  0.51124438,  0.51124438,  0.51124438,  0.51124438,\n",
       "         0.51124438,  0.51124438,  0.51124438,  0.51124438,  0.51124438,\n",
       "         0.51124438,  0.51124438,  0.51124438,  0.51124438,  0.51124438,\n",
       "         0.51124438,  0.51124438,  0.51124438,  0.51124438,  0.6121939 ,\n",
       "         0.75012494,  1.        ,  1.        ,  1.        ,  1.        ,\n",
       "         1.        ,  0.99750125,  0.95652174,  0.85507246,  1.        ,\n",
       "         1.        ,  1.        ,  1.        ,  1.        ,  1.        ,\n",
       "         0.998001  ,  0.93153423,  1.        ,  1.        ,  1.        ,\n",
       "         1.        ,  1.        ,  1.        ,  1.        ,  0.984008  ,\n",
       "         1.        ,  1.        ,  1.        ,  1.        ,  1.        ,\n",
       "         1.        ,  1.        ,  0.9990005 ]),\n",
       " 'split4_test_score': array([ 0.51102204,  0.51102204,  0.51102204,  0.51102204,  0.51102204,\n",
       "         0.51102204,  0.51102204,  0.51102204,  0.51102204,  0.51102204,\n",
       "         0.51102204,  0.51102204,  0.51102204,  0.51102204,  0.51102204,\n",
       "         0.51102204,  0.51102204,  0.51102204,  0.51102204,  0.51102204,\n",
       "         0.51102204,  0.51102204,  0.51102204,  0.51102204,  0.51102204,\n",
       "         0.51102204,  0.51102204,  0.51102204,  0.51102204,  0.51102204,\n",
       "         0.51102204,  0.51102204,  0.51102204,  0.51102204,  0.51102204,\n",
       "         0.51102204,  0.51102204,  0.51102204,  0.51102204,  0.51102204,\n",
       "         0.51102204,  0.51102204,  0.51102204,  0.51102204,  0.51102204,\n",
       "         0.51102204,  0.51102204,  0.51102204,  0.51102204,  0.51102204,\n",
       "         0.51102204,  0.51102204,  0.51102204,  0.51102204,  0.58316633,\n",
       "         0.71943888,  0.51102204,  0.51102204,  0.51102204,  0.51102204,\n",
       "         0.51503006,  0.71342685,  0.80160321,  0.78757515,  0.51102204,\n",
       "         0.51102204,  0.51102204,  0.51102204,  0.51503006,  0.71543086,\n",
       "         0.80761523,  0.78356713,  0.51102204,  0.51102204,  0.51102204,\n",
       "         0.51102204,  0.51503006,  0.71543086,  0.80360721,  0.80561122,\n",
       "         0.51102204,  0.51102204,  0.51102204,  0.51102204,  0.51503006,\n",
       "         0.71543086,  0.80360721,  0.75150301]),\n",
       " 'split4_train_score': array([ 0.51124438,  0.51124438,  0.51124438,  0.51124438,  0.51124438,\n",
       "         0.51124438,  0.51124438,  0.51124438,  0.51124438,  0.51124438,\n",
       "         0.51124438,  0.51124438,  0.51124438,  0.51124438,  0.51124438,\n",
       "         0.51124438,  0.51124438,  0.51124438,  0.51124438,  0.51124438,\n",
       "         0.51124438,  0.51124438,  0.51124438,  0.51124438,  0.51124438,\n",
       "         0.51124438,  0.51124438,  0.51124438,  0.51124438,  0.51124438,\n",
       "         0.51124438,  0.51124438,  0.51124438,  0.51124438,  0.51124438,\n",
       "         0.51124438,  0.51124438,  0.51124438,  0.51124438,  0.51124438,\n",
       "         0.51124438,  0.51124438,  0.51124438,  0.51124438,  0.51124438,\n",
       "         0.51124438,  0.51124438,  0.51124438,  0.51124438,  0.51124438,\n",
       "         0.51124438,  0.51124438,  0.51124438,  0.51124438,  0.62818591,\n",
       "         0.74712644,  1.        ,  1.        ,  1.        ,  1.        ,\n",
       "         1.        ,  0.9990005 ,  0.95452274,  0.85707146,  1.        ,\n",
       "         1.        ,  1.        ,  1.        ,  1.        ,  1.        ,\n",
       "         0.998001  ,  0.93353323,  1.        ,  1.        ,  1.        ,\n",
       "         1.        ,  1.        ,  1.        ,  1.        ,  0.98650675,\n",
       "         1.        ,  1.        ,  1.        ,  1.        ,  1.        ,\n",
       "         1.        ,  1.        ,  1.        ]),\n",
       " 'std_fit_time': array([ 0.02138154,  0.02481792,  0.02589295,  0.01653473,  0.01908522,\n",
       "         0.00472175,  0.01589085,  0.0137666 ,  0.04199828,  0.06627046,\n",
       "         0.05288134,  0.03474434,  0.02700279,  0.01331408,  0.0072799 ,\n",
       "         0.01277318,  0.02295559,  0.02716957,  0.02696517,  0.02403043,\n",
       "         0.02302448,  0.00512002,  0.00702901,  0.01043566,  0.02565112,\n",
       "         0.01557924,  0.03139625,  0.03190091,  0.01973187,  0.01978268,\n",
       "         0.0072079 ,  0.0081788 ,  0.04333563,  0.02537861,  0.03211048,\n",
       "         0.02646637,  0.01381002,  0.00819692,  0.00513   ,  0.00853279,\n",
       "         0.02710243,  0.01192145,  0.03194281,  0.03323563,  0.02070077,\n",
       "         0.01411804,  0.01431079,  0.00650343,  0.02416219,  0.02428944,\n",
       "         0.03868735,  0.02412149,  0.02670067,  0.01240825,  0.02397909,\n",
       "         0.00687859,  0.05253365,  0.01994975,  0.03224316,  0.04046175,\n",
       "         0.02907805,  0.00389142,  0.01055276,  0.00836414,  0.03250991,\n",
       "         0.02358323,  0.01845059,  0.03635295,  0.01154275,  0.00885236,\n",
       "         0.0071561 ,  0.00717596,  0.00829039,  0.04259958,  0.03500357,\n",
       "         0.01857265,  0.02941508,  0.01014173,  0.01170683,  0.02064344,\n",
       "         0.03669085,  0.03755353,  0.04684546,  0.01399896,  0.02357793,\n",
       "         0.00582301,  0.00865845,  0.02726556]),\n",
       " 'std_score_time': array([ 0.00944841,  0.01358737,  0.01043408,  0.00523723,  0.00722387,\n",
       "         0.00277015,  0.00211134,  0.01221736,  0.0128616 ,  0.01546947,\n",
       "         0.0120404 ,  0.01338252,  0.01070483,  0.01279443,  0.00413031,\n",
       "         0.0033584 ,  0.00798472,  0.01442363,  0.00969442,  0.01402402,\n",
       "         0.00436639,  0.00839796,  0.00363081,  0.00484142,  0.00853311,\n",
       "         0.00569497,  0.01295261,  0.00563487,  0.00861853,  0.00348626,\n",
       "         0.00257932,  0.00414175,  0.00817889,  0.00448215,  0.00684868,\n",
       "         0.00816207,  0.00589801,  0.0043338 ,  0.00836144,  0.00238245,\n",
       "         0.00256222,  0.00193526,  0.00403276,  0.00916588,  0.00409663,\n",
       "         0.00491724,  0.00244311,  0.00485451,  0.00845684,  0.00246355,\n",
       "         0.00730604,  0.01108561,  0.00524009,  0.00487178,  0.00648885,\n",
       "         0.0073635 ,  0.00431684,  0.0065878 ,  0.01400746,  0.00444606,\n",
       "         0.00312249,  0.00445537,  0.00365978,  0.00089692,  0.00314831,\n",
       "         0.00401907,  0.00935316,  0.00563682,  0.00334883,  0.00144976,\n",
       "         0.00368231,  0.0017451 ,  0.00462409,  0.00803872,  0.01146227,\n",
       "         0.00295744,  0.00570422,  0.0077547 ,  0.00386815,  0.00384412,\n",
       "         0.01105132,  0.01191027,  0.00657744,  0.01232578,  0.00510767,\n",
       "         0.00499807,  0.00592615,  0.00231021]),\n",
       " 'std_test_score': array([ 0.00040048,  0.00040048,  0.00040048,  0.00040048,  0.00040048,\n",
       "         0.00040048,  0.00040048,  0.00040048,  0.00040048,  0.00040048,\n",
       "         0.00040048,  0.00040048,  0.00040048,  0.00040048,  0.00040048,\n",
       "         0.00040048,  0.00040048,  0.00040048,  0.00040048,  0.00040048,\n",
       "         0.00040048,  0.00040048,  0.00040048,  0.00040048,  0.00040048,\n",
       "         0.00040048,  0.00040048,  0.00040048,  0.00040048,  0.00040048,\n",
       "         0.00040048,  0.00040048,  0.00040048,  0.00040048,  0.00040048,\n",
       "         0.00040048,  0.00040048,  0.00040048,  0.00040048,  0.00040048,\n",
       "         0.00040048,  0.00040048,  0.00040048,  0.00040048,  0.00040048,\n",
       "         0.00040048,  0.00040048,  0.00040048,  0.00040048,  0.00040048,\n",
       "         0.00040048,  0.00040048,  0.00040048,  0.00040048,  0.01041465,\n",
       "         0.00718605,  0.00040048,  0.00040048,  0.00040048,  0.00040048,\n",
       "         0.00215419,  0.00957967,  0.00518711,  0.00978847,  0.00040048,\n",
       "         0.00040048,  0.00040048,  0.00040048,  0.00233662,  0.00901758,\n",
       "         0.01885076,  0.0150522 ,  0.00040048,  0.00040048,  0.00040048,\n",
       "         0.00040048,  0.00233662,  0.00901758,  0.02202207,  0.02507317,\n",
       "         0.00040048,  0.00040048,  0.00040048,  0.00040048,  0.00233662,\n",
       "         0.00901758,  0.02202207,  0.01061521]),\n",
       " 'std_train_score': array([ 0.00010013,  0.00010013,  0.00010013,  0.00010013,  0.00010013,\n",
       "         0.00010013,  0.00010013,  0.00010013,  0.00010013,  0.00010013,\n",
       "         0.00010013,  0.00010013,  0.00010013,  0.00010013,  0.00010013,\n",
       "         0.00010013,  0.00010013,  0.00010013,  0.00010013,  0.00010013,\n",
       "         0.00010013,  0.00010013,  0.00010013,  0.00010013,  0.00010013,\n",
       "         0.00010013,  0.00010013,  0.00010013,  0.00010013,  0.00010013,\n",
       "         0.00010013,  0.00010013,  0.00010013,  0.00010013,  0.00010013,\n",
       "         0.00010013,  0.00010013,  0.00010013,  0.00010013,  0.00010013,\n",
       "         0.00010013,  0.00010013,  0.00010013,  0.00010013,  0.00010013,\n",
       "         0.00010013,  0.00010013,  0.00010013,  0.00010013,  0.00010013,\n",
       "         0.00010013,  0.00010013,  0.00010013,  0.00010013,  0.00702675,\n",
       "         0.00605161,  0.        ,  0.        ,  0.        ,  0.        ,\n",
       "         0.        ,  0.00073528,  0.00331294,  0.0028764 ,  0.        ,\n",
       "         0.        ,  0.        ,  0.        ,  0.        ,  0.        ,\n",
       "         0.0008003 ,  0.00268293,  0.        ,  0.        ,  0.        ,\n",
       "         0.        ,  0.        ,  0.        ,  0.        ,  0.00139396,\n",
       "         0.        ,  0.        ,  0.        ,  0.        ,  0.        ,\n",
       "         0.        ,  0.        ,  0.00031607])}"
      ]
     },
     "execution_count": 10,
     "metadata": {},
     "output_type": "execute_result"
    }
   ],
   "source": [
    "def convert_to_gamma(radial_width):\n",
    "    converted = [0]*len(radial_width)\n",
    "    for i in range(len(radial_width)):\n",
    "        gamma = 1/(2*(radial_width[i]**2))\n",
    "        converted[i] = gamma\n",
    "    return converted\n",
    "\n",
    "radial_width = [0.001, 0.005, 0.01, 0.05, 0.1, 0.5, 1, 2]\n",
    "gamma_list = convert_to_gamma(radial_width)\n",
    "\n",
    "# SVM process\n",
    "\n",
    "# rbf\n",
    "# polynomial degree 2 & 3 (this one is using 3)\n",
    "# radial with width [0.001, 0.005, 0.01, 0.05, 0.1, 0.5, 1, 2]\n",
    "# regularization parameter C = [1e-7, 1e-6, 1e-5, 1e-4, 1e-3]\n",
    "\n",
    "classifier = svm.SVC(kernel='rbf')\n",
    "C_list = [1e-7, 1e-6, 1e-5, 1e-4, 1e-3, 1e-2, 1e-1, 1e-0, 1e1, 1e2, 1e3]\n",
    "params = {\"C\": C_list, \"gamma\": gamma_list}\n",
    "\n",
    "GSR = GridSearchCV(classifier, params, return_train_score=True, cv=5, n_jobs=4)\n",
    "GSR.fit(X_train_val,Y_train_val)\n",
    "GSR.cv_results_\n",
    "                               \n",
    "# May also want to try rbf kernel with sigma (radial width values)"
   ]
  },
  {
   "cell_type": "code",
   "execution_count": 11,
   "metadata": {},
   "outputs": [
    {
     "name": "stdout",
     "output_type": "stream",
     "text": [
      "{'C': 1.0, 'gamma': 0.5}\n",
      "0.7828\n"
     ]
    }
   ],
   "source": [
    "# find best C and best accuracy\n",
    "test_acc = sum(GSR.best_estimator_.predict(X_test) == Y_test) / len(X_test)\n",
    "print(GSR.best_params_)\n",
    "print(test_acc)"
   ]
  },
  {
   "cell_type": "code",
   "execution_count": 16,
   "metadata": {},
   "outputs": [
    {
     "data": {
      "image/png": "[encoded data removed]",
      "text/plain": [
       "<matplotlib.figure.Figure at 0x37fa8230>"
      ]
     },
     "metadata": {},
     "output_type": "display_data"
    },
    {
     "data": {
      "image/png": "[encoded data removed]",
      "text/plain": [
       "<matplotlib.figure.Figure at 0xe81cdb0>"
      ]
     },
     "metadata": {},
     "output_type": "display_data"
    }
   ],
   "source": [
    "def draw_heatmap_RBF(acc, acc_desc, gamma_list, C_list):\n",
    "    plt.figure(figsize = (5,4))\n",
    "    ax = sns.heatmap(acc, annot=True, fmt='.3f', \n",
    "                     xticklabels=gamma_list, yticklabels=C_list)\n",
    "    ax.collections[0].colorbar.set_label(\"accuracy\")\n",
    "    ax.set(xlabel = '$\\gamma$', ylabel='$C$')\n",
    "    plt.title(acc_desc + ' w.r.t $C$ and $\\gamma$')\n",
    "    sns.set_style(\"whitegrid\", {'axes.grid' : False})\n",
    "    plt.show()   \n",
    "\n",
    "train_acc = GSR.cv_results_['mean_train_score'].reshape(11,8)\n",
    "draw_heatmap_RBF(train_acc, 'train accuracy', gamma_list, C_list)\n",
    "\n",
    "val_acc = GSR.cv_results_['mean_test_score'].reshape(11,8)\n",
    "draw_heatmap_RBF(val_acc, 'val accuracy',gamma_list, C_list)"
   ]
  },
  {
   "cell_type": "code",
   "execution_count": 12,
   "metadata": {},
   "outputs": [
    {
     "data": {
      "text/plain": [
       "array([ 0.,  0.,  1., ...,  1.,  1.,  1.])"
      ]
     },
     "execution_count": 12,
     "metadata": {},
     "output_type": "execute_result"
    }
   ],
   "source": [
    "# KNN\n",
    "k_list = [1,2,3,4,5,6,7,8,9,10,11,12,13,14,15,16,17,18,19,20,21,22,23,24,25,26]\n",
    "#k_list = [1,5,8]\n",
    "params = {\"n_neighbors\": k_list}\n",
    "knn = KNeighborsClassifier(n_neighbors=26)\n",
    "kgs=GridSearchCV(knn, params)\n",
    "knn.fit(X_train_val, Y_train_val)\n",
    "knn.predict(X_test)"
   ]
  },
  {
   "cell_type": "code",
   "execution_count": 13,
   "metadata": {},
   "outputs": [
    {
     "name": "stdout",
     "output_type": "stream",
     "text": [
      "0.7456\n"
     ]
    }
   ],
   "source": [
    "# compute accuracy\n",
    "test_acc = np.sum(knn.predict(X_test)==Y_test) / len(X_test)\n",
    "print(test_acc)"
   ]
  },
  {
   "cell_type": "code",
   "execution_count": 14,
   "metadata": {},
   "outputs": [
    {
     "data": {
      "text/plain": [
       "array([ 0.,  0.,  1., ...,  1.,  1.,  0.])"
      ]
     },
     "execution_count": 14,
     "metadata": {},
     "output_type": "execute_result"
    }
   ],
   "source": [
    "# Random Forest\n",
    "rf = RandomForestClassifier(n_estimators=1024, random_state=0, n_jobs=4)\n",
    "rf.fit(X_train_val, Y_train_val)\n",
    "rf.predict(X_test)"
   ]
  },
  {
   "cell_type": "code",
   "execution_count": 15,
   "metadata": {},
   "outputs": [
    {
     "name": "stdout",
     "output_type": "stream",
     "text": [
      "0.8052\n"
     ]
    }
   ],
   "source": [
    "# compute accuracy\n",
    "test_acc = np.sum(rf.predict(X_test)==Y_test) / len(X_test)\n",
    "print(test_acc)"
   ]
  },
  {
   "cell_type": "code",
   "execution_count": null,
   "metadata": {
    "collapsed": true
   },
   "outputs": [],
   "source": []
  }
 ],
 "metadata": {
  "kernelspec": {
   "display_name": "Python 3",
   "language": "python",
   "name": "python3"
  },
  "language_info": {
   "codemirror_mode": {
    "name": "ipython",
    "version": 3
   },
   "file_extension": ".py",
   "mimetype": "text/x-python",
   "name": "python",
   "nbconvert_exporter": "python",
   "pygments_lexer": "ipython3",
   "version": "3.6.1"
  }
 },
 "nbformat": 4,
 "nbformat_minor": 2
}
