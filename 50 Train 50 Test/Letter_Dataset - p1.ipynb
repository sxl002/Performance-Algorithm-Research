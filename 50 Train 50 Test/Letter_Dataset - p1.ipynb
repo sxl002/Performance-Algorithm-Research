{
 "cells": [
  {
   "cell_type": "code",
   "execution_count": 1,
   "metadata": {
    "collapsed": true
   },
   "outputs": [],
   "source": [
    "import numpy as np\n",
    "import pandas as pd\n",
    "import scipy.io as sio\n",
    "import matplotlib.pyplot as plt\n",
    "import seaborn as sns\n",
    "from sklearn import svm\n",
    "from sklearn.model_selection import RandomizedSearchCV\n",
    "from sklearn.model_selection import GridSearchCV\n",
    "from sklearn.neighbors import KNeighborsClassifier\n",
    "from sklearn.datasets import make_classification\n",
    "from sklearn.ensemble import RandomForestClassifier\n",
    "from sklearn.datasets import make_classification\n",
    "from sklearn.preprocessing import StandardScaler"
   ]
  },
  {
   "cell_type": "code",
   "execution_count": 2,
   "metadata": {
    "collapsed": true
   },
   "outputs": [],
   "source": [
    "# This converter function will convert the string into corresponding value.\n",
    "def converter1(x):\n",
    "    if x == b'O':       \n",
    "        return 1\n",
    "    else:\n",
    "        return 0"
   ]
  },
  {
   "cell_type": "code",
   "execution_count": 3,
   "metadata": {
    "collapsed": true
   },
   "outputs": [],
   "source": [
    "column1 = 0\n",
    "\n",
    "data = np.loadtxt('letter-recognition.data', delimiter=',', \n",
    "               converters={column1:converter1})"
   ]
  },
  {
   "cell_type": "code",
   "execution_count": 4,
   "metadata": {},
   "outputs": [
    {
     "name": "stdout",
     "output_type": "stream",
     "text": [
      "[[  0.   2.   8. ...,   8.   0.   8.]\n",
      " [  0.   5.  12. ...,   8.   4.  10.]\n",
      " [  0.   4.  11. ...,   7.   3.   9.]\n",
      " ..., \n",
      " [  0.   6.   9. ...,  12.   2.   4.]\n",
      " [  0.   2.   3. ...,   9.   5.   8.]\n",
      " [  0.   4.   9. ...,   7.   2.   8.]]\n",
      "(20000, 17)\n"
     ]
    }
   ],
   "source": [
    "print(data)\n",
    "print(data.shape)"
   ]
  },
  {
   "cell_type": "code",
   "execution_count": 5,
   "metadata": {},
   "outputs": [
    {
     "name": "stdout",
     "output_type": "stream",
     "text": [
      "(5000, 16) (5000,)\n"
     ]
    }
   ],
   "source": [
    "# Divide data into training and testing sets\n",
    "X_and_Y = data\n",
    "np.random.shuffle(X_and_Y)\n",
    "\n",
    "# Try to predict the last column (the cover type, which is 7 types)\n",
    "X = X_and_Y[:5000,1:17]\n",
    "Y = X_and_Y[:5000,0]\n",
    "print(X.shape, Y.shape)"
   ]
  },
  {
   "cell_type": "code",
   "execution_count": 6,
   "metadata": {},
   "outputs": [
    {
     "name": "stdout",
     "output_type": "stream",
     "text": [
      "(2500, 16) (2500, 16) (2500,) (2500,)\n"
     ]
    }
   ],
   "source": [
    "X_train_val = X[:int(0.5*len(X))]\n",
    "X_test      = X[int(0.5*len(X)):]\n",
    "Y_train_val = Y[:int(0.5*len(Y))]\n",
    "Y_test      = Y[int(0.5*len(Y)):]\n",
    "print(X_train_val.shape, X_test.shape, Y_train_val.shape, Y_test.shape)"
   ]
  },
  {
   "cell_type": "code",
   "execution_count": 7,
   "metadata": {},
   "outputs": [
    {
     "data": {
      "text/plain": [
       "{'mean_fit_time': array([  1.04075432e-02,   1.18088722e-02,   1.47103310e-02,\n",
       "          1.62110329e-02,   1.41477108e-02,   1.48105621e-02,\n",
       "          2.23158836e-02,   6.59467220e-02,   3.88644314e-01,\n",
       "          3.95339375e+00,   4.16530551e+01]),\n",
       " 'mean_score_time': array([ 0.00230179,  0.00270152,  0.00360203,  0.0031014 ,  0.00276461,\n",
       "         0.00300226,  0.00380273,  0.007305  ,  0.0071137 ,  0.00870905,\n",
       "         0.00970812]),\n",
       " 'mean_test_score': array([ 0.9636,  0.9636,  0.9636,  0.9636,  0.9636,  0.9636,  0.9636,\n",
       "         0.9636,  0.9636,  0.9636,  0.9636]),\n",
       " 'mean_train_score': array([ 0.96360005,  0.96360005,  0.96360005,  0.96360005,  0.96360005,\n",
       "         0.96360005,  0.96360005,  0.96360005,  0.96360005,  0.96360005,\n",
       "         0.96360005]),\n",
       " 'param_C': masked_array(data = [1e-07 1e-06 1e-05 0.0001 0.001 0.01 0.1 1.0 10.0 100.0 1000.0],\n",
       "              mask = [False False False False False False False False False False False],\n",
       "        fill_value = ?),\n",
       " 'params': ({'C': 1e-07},\n",
       "  {'C': 1e-06},\n",
       "  {'C': 1e-05},\n",
       "  {'C': 0.0001},\n",
       "  {'C': 0.001},\n",
       "  {'C': 0.01},\n",
       "  {'C': 0.1},\n",
       "  {'C': 1.0},\n",
       "  {'C': 10.0},\n",
       "  {'C': 100.0},\n",
       "  {'C': 1000.0}),\n",
       " 'rank_test_score': array([1, 1, 1, 1, 1, 1, 1, 1, 1, 1, 1], dtype=int32),\n",
       " 'split0_test_score': array([ 0.96207585,  0.96207585,  0.96207585,  0.96207585,  0.96207585,\n",
       "         0.96207585,  0.96207585,  0.96207585,  0.96207585,  0.96207585,\n",
       "         0.96207585]),\n",
       " 'split0_train_score': array([ 0.96398199,  0.96398199,  0.96398199,  0.96398199,  0.96398199,\n",
       "         0.96398199,  0.96398199,  0.96398199,  0.96398199,  0.96398199,\n",
       "         0.96398199]),\n",
       " 'split1_test_score': array([ 0.964,  0.964,  0.964,  0.964,  0.964,  0.964,  0.964,  0.964,\n",
       "         0.964,  0.964,  0.964]),\n",
       " 'split1_train_score': array([ 0.9635,  0.9635,  0.9635,  0.9635,  0.9635,  0.9635,  0.9635,\n",
       "         0.9635,  0.9635,  0.9635,  0.9635]),\n",
       " 'split2_test_score': array([ 0.964,  0.964,  0.964,  0.964,  0.964,  0.964,  0.964,  0.964,\n",
       "         0.964,  0.964,  0.964]),\n",
       " 'split2_train_score': array([ 0.9635,  0.9635,  0.9635,  0.9635,  0.9635,  0.9635,  0.9635,\n",
       "         0.9635,  0.9635,  0.9635,  0.9635]),\n",
       " 'split3_test_score': array([ 0.964,  0.964,  0.964,  0.964,  0.964,  0.964,  0.964,  0.964,\n",
       "         0.964,  0.964,  0.964]),\n",
       " 'split3_train_score': array([ 0.9635,  0.9635,  0.9635,  0.9635,  0.9635,  0.9635,  0.9635,\n",
       "         0.9635,  0.9635,  0.9635,  0.9635]),\n",
       " 'split4_test_score': array([ 0.96392786,  0.96392786,  0.96392786,  0.96392786,  0.96392786,\n",
       "         0.96392786,  0.96392786,  0.96392786,  0.96392786,  0.96392786,\n",
       "         0.96392786]),\n",
       " 'split4_train_score': array([ 0.96351824,  0.96351824,  0.96351824,  0.96351824,  0.96351824,\n",
       "         0.96351824,  0.96351824,  0.96351824,  0.96351824,  0.96351824,\n",
       "         0.96351824]),\n",
       " 'std_fit_time': array([  9.69510073e-04,   6.01411100e-04,   2.56291109e-03,\n",
       "          1.28838517e-03,   1.53832389e-03,   3.14227795e-03,\n",
       "          4.96912357e-03,   1.00538838e-02,   2.71461615e-02,\n",
       "          8.77175095e-02,   1.17669548e+00]),\n",
       " 'std_score_time': array([ 0.00040125,  0.0006781 ,  0.0003748 ,  0.00049075,  0.00061325,\n",
       "         0.00054786,  0.00060012,  0.0011671 ,  0.00020362,  0.00039875,\n",
       "         0.00040884]),\n",
       " 'std_test_score': array([ 0.00076354,  0.00076354,  0.00076354,  0.00076354,  0.00076354,\n",
       "         0.00076354,  0.00076354,  0.00076354,  0.00076354,  0.00076354,\n",
       "         0.00076354]),\n",
       " 'std_train_score': array([ 0.0001911,  0.0001911,  0.0001911,  0.0001911,  0.0001911,\n",
       "         0.0001911,  0.0001911,  0.0001911,  0.0001911,  0.0001911,\n",
       "         0.0001911])}"
      ]
     },
     "execution_count": 7,
     "metadata": {},
     "output_type": "execute_result"
    }
   ],
   "source": [
    "# SVM process\n",
    "\n",
    "# linear\n",
    "# polynomial degree 2 & 3 (this one is using 3)\n",
    "# radial with width [0.001, 0.005, 0.01, 0.05, 0.1, 0.5, 1, 2]\n",
    "# regularization parameter C = [1e-7, 1e-6, 1e-5, 1e-4, 1e-3]\n",
    "\n",
    "classifier = svm.SVC(kernel='linear')\n",
    "C_list = [1e-7, 1e-6, 1e-5, 1e-4, 1e-3, 1e-2, 1e-1, 1e-0, 1e1, 1e2, 1e3]   \n",
    "params = {\"C\": C_list}\n",
    "\n",
    "GSR = GridSearchCV(classifier, params, return_train_score=True, cv=5, n_jobs=4)\n",
    "GSR.fit(X_train_val,Y_train_val)\n",
    "GSR.cv_results_\n",
    "                               \n",
    "# May also want to try rbf kernel with sigma (radial width values)"
   ]
  },
  {
   "cell_type": "code",
   "execution_count": 8,
   "metadata": {},
   "outputs": [
    {
     "name": "stdout",
     "output_type": "stream",
     "text": [
      "{'C': 1e-07}\n",
      "0.9652\n"
     ]
    }
   ],
   "source": [
    "# find best C and best accuracy\n",
    "test_acc = sum(GSR.best_estimator_.predict(X_test) == Y_test) / len(X_test)\n",
    "print(GSR.best_params_)\n",
    "print(test_acc)"
   ]
  },
  {
   "cell_type": "code",
   "execution_count": 11,
   "metadata": {},
   "outputs": [
    {
     "data": {
      "image/png": "[encoded data removed]",
      "text/plain": [
       "<matplotlib.figure.Figure at 0x33b4df0>"
      ]
     },
     "metadata": {},
     "output_type": "display_data"
    },
    {
     "data": {
      "image/png": "[encoded data removed]",
      "text/plain": [
       "<matplotlib.figure.Figure at 0xf07e590>"
      ]
     },
     "metadata": {},
     "output_type": "display_data"
    }
   ],
   "source": [
    "def draw_heatmap_linear(acc, acc_desc, C_list):\n",
    "    plt.figure(figsize = (2,4))\n",
    "    ax = sns.heatmap(acc, annot=True, fmt='.3f', yticklabels=C_list, xticklabels=[])\n",
    "    ax.collections[0].colorbar.set_label(\"accuracy\")\n",
    "    ax.set(ylabel='$C$')\n",
    "    plt.title(acc_desc + ' w.r.t $C$')\n",
    "    sns.set_style(\"whitegrid\", {'axes.grid' : False})\n",
    "    plt.show()\n",
    "    \n",
    "results = GSR.cv_results_\n",
    "\n",
    "train_acc = np.matrix(results.get(\"mean_train_score\")).T\n",
    "draw_heatmap_linear(train_acc, 'train accuracy', C_list)\n",
    "\n",
    "val_acc = np.matrix(results.get(\"mean_test_score\")).T\n",
    "draw_heatmap_linear(val_acc, 'val accuracy', C_list)"
   ]
  },
  {
   "cell_type": "code",
   "execution_count": 12,
   "metadata": {},
   "outputs": [
    {
     "data": {
      "text/plain": [
       "{'mean_fit_time': array([ 0.02331562,  0.02521763,  0.02501774,  0.02331614,  0.02621655,\n",
       "         0.06574593,  0.03182268,  0.01751246,  0.02661853,  0.02771873,\n",
       "         0.0278194 ,  0.0328228 ,  0.0246172 ,  0.06584659,  0.03102279,\n",
       "         0.01690917,  0.03141918,  0.03242292,  0.03192196,  0.03172216,\n",
       "         0.02982168,  0.06644645,  0.03282351,  0.01951365,  0.03332291,\n",
       "         0.03162203,  0.03152189,  0.02731819,  0.02751832,  0.07165022,\n",
       "         0.03642559,  0.02441721,  0.04182997,  0.03602395,  0.03612437,\n",
       "         0.03562508,  0.03862128,  0.08445892,  0.03592534,  0.02071576,\n",
       "         0.23026881,  0.22326059,  0.23296742,  0.2199646 ,  0.20534496,\n",
       "         0.57751265,  0.35855355,  0.06954799,  0.35625482,  0.38630099,\n",
       "         0.35870275,  0.37507119,  0.37596931,  0.9456769 ,  0.65678301,\n",
       "         0.19524593,  0.44663448,  0.40819521,  0.42890162,  0.42059464,\n",
       "         0.41349092,  0.99120564,  0.74383388,  0.27359271,  0.43794513,\n",
       "         0.42870269,  0.4234035 ,  0.40338387,  0.45333381,  1.04344354,\n",
       "         0.7337214 ,  0.27539468,  0.42660089,  0.47463493,  0.48334198,\n",
       "         0.40598869,  0.44041734,  1.03582945,  0.69559112,  0.24167051,\n",
       "         0.40218301,  0.40008421,  0.44185362,  0.51186161,  0.44453197,\n",
       "         1.00040932,  0.71130214,  0.25187812]),\n",
       " 'mean_score_time': array([ 0.00520334,  0.00610418,  0.00610414,  0.00590477,  0.00530353,\n",
       "         0.00480337,  0.00450306,  0.00390277,  0.0064044 ,  0.00590458,\n",
       "         0.00510359,  0.00840607,  0.00650482,  0.00460644,  0.00360212,\n",
       "         0.00400333,  0.0083087 ,  0.00730505,  0.0083066 ,  0.0068049 ,\n",
       "         0.00710468,  0.00470381,  0.0038033 ,  0.00450306,  0.00790606,\n",
       "         0.00730619,  0.0068048 ,  0.00650473,  0.00580449,  0.00570426,\n",
       "         0.00490398,  0.00520411,  0.0097065 ,  0.00950723,  0.00830674,\n",
       "         0.01061125,  0.00991387,  0.00611062,  0.00450306,  0.00480533,\n",
       "         0.04613228,  0.04863405,  0.04703393,  0.04873471,  0.04873648,\n",
       "         0.0368299 ,  0.0285202 ,  0.01310921,  0.06714816,  0.07465277,\n",
       "         0.08255868,  0.06785131,  0.07225113,  0.0638454 ,  0.04703555,\n",
       "         0.03332348,  0.08536396,  0.07355213,  0.0704524 ,  0.08258767,\n",
       "         0.08016052,  0.07054977,  0.04703603,  0.0425283 ,  0.07585421,\n",
       "         0.07965899,  0.07165055,  0.07915611,  0.08275833,  0.0625443 ,\n",
       "         0.04973226,  0.03532472,  0.08075938,  0.09626884,  0.08796549,\n",
       "         0.06915202,  0.07955661,  0.06444554,  0.04733701,  0.03672619,\n",
       "         0.06414661,  0.07305112,  0.08586068,  0.08436003,  0.06934943,\n",
       "         0.06294789,  0.04453268,  0.03663111]),\n",
       " 'mean_test_score': array([ 0.9636,  0.9636,  0.9636,  0.9636,  0.9636,  0.9636,  0.9636,\n",
       "         0.9636,  0.9636,  0.9636,  0.9636,  0.9636,  0.9636,  0.9636,\n",
       "         0.9636,  0.9636,  0.9636,  0.9636,  0.9636,  0.9636,  0.9636,\n",
       "         0.9636,  0.9636,  0.9636,  0.9636,  0.9636,  0.9636,  0.9636,\n",
       "         0.9636,  0.9636,  0.9636,  0.9636,  0.9636,  0.9636,  0.9636,\n",
       "         0.9636,  0.9636,  0.9636,  0.9636,  0.9636,  0.9636,  0.9636,\n",
       "         0.9636,  0.9636,  0.9636,  0.9636,  0.9636,  0.9636,  0.9636,\n",
       "         0.9636,  0.9636,  0.9636,  0.9636,  0.9636,  0.9636,  0.9636,\n",
       "         0.9636,  0.9636,  0.9636,  0.9636,  0.9636,  0.9636,  0.9636,\n",
       "         0.98  ,  0.9636,  0.9636,  0.9636,  0.9636,  0.9636,  0.9636,\n",
       "         0.9648,  0.9848,  0.9636,  0.9636,  0.9636,  0.9636,  0.9636,\n",
       "         0.9636,  0.9648,  0.9848,  0.9636,  0.9636,  0.9636,  0.9636,\n",
       "         0.9636,  0.9636,  0.9648,  0.9848]),\n",
       " 'mean_train_score': array([ 0.96360005,  0.96360005,  0.96360005,  0.96360005,  0.96360005,\n",
       "         0.96360005,  0.96360005,  0.96360005,  0.96360005,  0.96360005,\n",
       "         0.96360005,  0.96360005,  0.96360005,  0.96360005,  0.96360005,\n",
       "         0.96360005,  0.96360005,  0.96360005,  0.96360005,  0.96360005,\n",
       "         0.96360005,  0.96360005,  0.96360005,  0.96360005,  0.96360005,\n",
       "         0.96360005,  0.96360005,  0.96360005,  0.96360005,  0.96360005,\n",
       "         0.96360005,  0.96360005,  0.96360005,  0.96360005,  0.96360005,\n",
       "         0.96360005,  0.96360005,  0.96360005,  0.96360005,  0.96360005,\n",
       "         0.96360005,  0.96360005,  0.96360005,  0.96360005,  0.96360005,\n",
       "         0.96360005,  0.96360005,  0.96360005,  0.96360005,  0.96360005,\n",
       "         0.96360005,  0.96360005,  0.96360005,  0.96360005,  0.96360005,\n",
       "         0.96360005,  1.        ,  1.        ,  1.        ,  1.        ,\n",
       "         1.        ,  1.        ,  1.        ,  0.99900005,  1.        ,\n",
       "         1.        ,  1.        ,  1.        ,  1.        ,  1.        ,\n",
       "         1.        ,  1.        ,  1.        ,  1.        ,  1.        ,\n",
       "         1.        ,  1.        ,  1.        ,  1.        ,  1.        ,\n",
       "         1.        ,  1.        ,  1.        ,  1.        ,  1.        ,\n",
       "         1.        ,  1.        ,  1.        ]),\n",
       " 'param_C': masked_array(data = [1e-07 1e-07 1e-07 1e-07 1e-07 1e-07 1e-07 1e-07 1e-06 1e-06 1e-06 1e-06\n",
       "  1e-06 1e-06 1e-06 1e-06 1e-05 1e-05 1e-05 1e-05 1e-05 1e-05 1e-05 1e-05\n",
       "  0.0001 0.0001 0.0001 0.0001 0.0001 0.0001 0.0001 0.0001 0.001 0.001 0.001\n",
       "  0.001 0.001 0.001 0.001 0.001 0.01 0.01 0.01 0.01 0.01 0.01 0.01 0.01 0.1\n",
       "  0.1 0.1 0.1 0.1 0.1 0.1 0.1 1.0 1.0 1.0 1.0 1.0 1.0 1.0 1.0 10.0 10.0 10.0\n",
       "  10.0 10.0 10.0 10.0 10.0 100.0 100.0 100.0 100.0 100.0 100.0 100.0 100.0\n",
       "  1000.0 1000.0 1000.0 1000.0 1000.0 1000.0 1000.0 1000.0],\n",
       "              mask = [False False False False False False False False False False False False\n",
       "  False False False False False False False False False False False False\n",
       "  False False False False False False False False False False False False\n",
       "  False False False False False False False False False False False False\n",
       "  False False False False False False False False False False False False\n",
       "  False False False False False False False False False False False False\n",
       "  False False False False False False False False False False False False\n",
       "  False False False False],\n",
       "        fill_value = ?),\n",
       " 'param_gamma': masked_array(data = [500000.0 20000.0 5000.0 199.99999999999997 49.99999999999999 2.0 0.5 0.125\n",
       "  500000.0 20000.0 5000.0 199.99999999999997 49.99999999999999 2.0 0.5 0.125\n",
       "  500000.0 20000.0 5000.0 199.99999999999997 49.99999999999999 2.0 0.5 0.125\n",
       "  500000.0 20000.0 5000.0 199.99999999999997 49.99999999999999 2.0 0.5 0.125\n",
       "  500000.0 20000.0 5000.0 199.99999999999997 49.99999999999999 2.0 0.5 0.125\n",
       "  500000.0 20000.0 5000.0 199.99999999999997 49.99999999999999 2.0 0.5 0.125\n",
       "  500000.0 20000.0 5000.0 199.99999999999997 49.99999999999999 2.0 0.5 0.125\n",
       "  500000.0 20000.0 5000.0 199.99999999999997 49.99999999999999 2.0 0.5 0.125\n",
       "  500000.0 20000.0 5000.0 199.99999999999997 49.99999999999999 2.0 0.5 0.125\n",
       "  500000.0 20000.0 5000.0 199.99999999999997 49.99999999999999 2.0 0.5 0.125\n",
       "  500000.0 20000.0 5000.0 199.99999999999997 49.99999999999999 2.0 0.5 0.125],\n",
       "              mask = [False False False False False False False False False False False False\n",
       "  False False False False False False False False False False False False\n",
       "  False False False False False False False False False False False False\n",
       "  False False False False False False False False False False False False\n",
       "  False False False False False False False False False False False False\n",
       "  False False False False False False False False False False False False\n",
       "  False False False False False False False False False False False False\n",
       "  False False False False],\n",
       "        fill_value = ?),\n",
       " 'params': ({'C': 1e-07, 'gamma': 500000.0},\n",
       "  {'C': 1e-07, 'gamma': 20000.0},\n",
       "  {'C': 1e-07, 'gamma': 5000.0},\n",
       "  {'C': 1e-07, 'gamma': 199.99999999999997},\n",
       "  {'C': 1e-07, 'gamma': 49.99999999999999},\n",
       "  {'C': 1e-07, 'gamma': 2.0},\n",
       "  {'C': 1e-07, 'gamma': 0.5},\n",
       "  {'C': 1e-07, 'gamma': 0.125},\n",
       "  {'C': 1e-06, 'gamma': 500000.0},\n",
       "  {'C': 1e-06, 'gamma': 20000.0},\n",
       "  {'C': 1e-06, 'gamma': 5000.0},\n",
       "  {'C': 1e-06, 'gamma': 199.99999999999997},\n",
       "  {'C': 1e-06, 'gamma': 49.99999999999999},\n",
       "  {'C': 1e-06, 'gamma': 2.0},\n",
       "  {'C': 1e-06, 'gamma': 0.5},\n",
       "  {'C': 1e-06, 'gamma': 0.125},\n",
       "  {'C': 1e-05, 'gamma': 500000.0},\n",
       "  {'C': 1e-05, 'gamma': 20000.0},\n",
       "  {'C': 1e-05, 'gamma': 5000.0},\n",
       "  {'C': 1e-05, 'gamma': 199.99999999999997},\n",
       "  {'C': 1e-05, 'gamma': 49.99999999999999},\n",
       "  {'C': 1e-05, 'gamma': 2.0},\n",
       "  {'C': 1e-05, 'gamma': 0.5},\n",
       "  {'C': 1e-05, 'gamma': 0.125},\n",
       "  {'C': 0.0001, 'gamma': 500000.0},\n",
       "  {'C': 0.0001, 'gamma': 20000.0},\n",
       "  {'C': 0.0001, 'gamma': 5000.0},\n",
       "  {'C': 0.0001, 'gamma': 199.99999999999997},\n",
       "  {'C': 0.0001, 'gamma': 49.99999999999999},\n",
       "  {'C': 0.0001, 'gamma': 2.0},\n",
       "  {'C': 0.0001, 'gamma': 0.5},\n",
       "  {'C': 0.0001, 'gamma': 0.125},\n",
       "  {'C': 0.001, 'gamma': 500000.0},\n",
       "  {'C': 0.001, 'gamma': 20000.0},\n",
       "  {'C': 0.001, 'gamma': 5000.0},\n",
       "  {'C': 0.001, 'gamma': 199.99999999999997},\n",
       "  {'C': 0.001, 'gamma': 49.99999999999999},\n",
       "  {'C': 0.001, 'gamma': 2.0},\n",
       "  {'C': 0.001, 'gamma': 0.5},\n",
       "  {'C': 0.001, 'gamma': 0.125},\n",
       "  {'C': 0.01, 'gamma': 500000.0},\n",
       "  {'C': 0.01, 'gamma': 20000.0},\n",
       "  {'C': 0.01, 'gamma': 5000.0},\n",
       "  {'C': 0.01, 'gamma': 199.99999999999997},\n",
       "  {'C': 0.01, 'gamma': 49.99999999999999},\n",
       "  {'C': 0.01, 'gamma': 2.0},\n",
       "  {'C': 0.01, 'gamma': 0.5},\n",
       "  {'C': 0.01, 'gamma': 0.125},\n",
       "  {'C': 0.1, 'gamma': 500000.0},\n",
       "  {'C': 0.1, 'gamma': 20000.0},\n",
       "  {'C': 0.1, 'gamma': 5000.0},\n",
       "  {'C': 0.1, 'gamma': 199.99999999999997},\n",
       "  {'C': 0.1, 'gamma': 49.99999999999999},\n",
       "  {'C': 0.1, 'gamma': 2.0},\n",
       "  {'C': 0.1, 'gamma': 0.5},\n",
       "  {'C': 0.1, 'gamma': 0.125},\n",
       "  {'C': 1.0, 'gamma': 500000.0},\n",
       "  {'C': 1.0, 'gamma': 20000.0},\n",
       "  {'C': 1.0, 'gamma': 5000.0},\n",
       "  {'C': 1.0, 'gamma': 199.99999999999997},\n",
       "  {'C': 1.0, 'gamma': 49.99999999999999},\n",
       "  {'C': 1.0, 'gamma': 2.0},\n",
       "  {'C': 1.0, 'gamma': 0.5},\n",
       "  {'C': 1.0, 'gamma': 0.125},\n",
       "  {'C': 10.0, 'gamma': 500000.0},\n",
       "  {'C': 10.0, 'gamma': 20000.0},\n",
       "  {'C': 10.0, 'gamma': 5000.0},\n",
       "  {'C': 10.0, 'gamma': 199.99999999999997},\n",
       "  {'C': 10.0, 'gamma': 49.99999999999999},\n",
       "  {'C': 10.0, 'gamma': 2.0},\n",
       "  {'C': 10.0, 'gamma': 0.5},\n",
       "  {'C': 10.0, 'gamma': 0.125},\n",
       "  {'C': 100.0, 'gamma': 500000.0},\n",
       "  {'C': 100.0, 'gamma': 20000.0},\n",
       "  {'C': 100.0, 'gamma': 5000.0},\n",
       "  {'C': 100.0, 'gamma': 199.99999999999997},\n",
       "  {'C': 100.0, 'gamma': 49.99999999999999},\n",
       "  {'C': 100.0, 'gamma': 2.0},\n",
       "  {'C': 100.0, 'gamma': 0.5},\n",
       "  {'C': 100.0, 'gamma': 0.125},\n",
       "  {'C': 1000.0, 'gamma': 500000.0},\n",
       "  {'C': 1000.0, 'gamma': 20000.0},\n",
       "  {'C': 1000.0, 'gamma': 5000.0},\n",
       "  {'C': 1000.0, 'gamma': 199.99999999999997},\n",
       "  {'C': 1000.0, 'gamma': 49.99999999999999},\n",
       "  {'C': 1000.0, 'gamma': 2.0},\n",
       "  {'C': 1000.0, 'gamma': 0.5},\n",
       "  {'C': 1000.0, 'gamma': 0.125}),\n",
       " 'rank_test_score': array([8, 8, 8, 8, 8, 8, 8, 8, 8, 8, 8, 8, 8, 8, 8, 8, 8, 8, 8, 8, 8, 8, 8,\n",
       "        8, 8, 8, 8, 8, 8, 8, 8, 8, 8, 8, 8, 8, 8, 8, 8, 8, 8, 8, 8, 8, 8, 8,\n",
       "        8, 8, 8, 8, 8, 8, 8, 8, 8, 8, 8, 8, 8, 8, 8, 8, 8, 4, 8, 8, 8, 8, 8,\n",
       "        8, 5, 1, 8, 8, 8, 8, 8, 8, 5, 1, 8, 8, 8, 8, 8, 8, 5, 1], dtype=int32),\n",
       " 'split0_test_score': array([ 0.96207585,  0.96207585,  0.96207585,  0.96207585,  0.96207585,\n",
       "         0.96207585,  0.96207585,  0.96207585,  0.96207585,  0.96207585,\n",
       "         0.96207585,  0.96207585,  0.96207585,  0.96207585,  0.96207585,\n",
       "         0.96207585,  0.96207585,  0.96207585,  0.96207585,  0.96207585,\n",
       "         0.96207585,  0.96207585,  0.96207585,  0.96207585,  0.96207585,\n",
       "         0.96207585,  0.96207585,  0.96207585,  0.96207585,  0.96207585,\n",
       "         0.96207585,  0.96207585,  0.96207585,  0.96207585,  0.96207585,\n",
       "         0.96207585,  0.96207585,  0.96207585,  0.96207585,  0.96207585,\n",
       "         0.96207585,  0.96207585,  0.96207585,  0.96207585,  0.96207585,\n",
       "         0.96207585,  0.96207585,  0.96207585,  0.96207585,  0.96207585,\n",
       "         0.96207585,  0.96207585,  0.96207585,  0.96207585,  0.96207585,\n",
       "         0.96207585,  0.96207585,  0.96207585,  0.96207585,  0.96207585,\n",
       "         0.96207585,  0.96207585,  0.96207585,  0.97804391,  0.96207585,\n",
       "         0.96207585,  0.96207585,  0.96207585,  0.96207585,  0.96207585,\n",
       "         0.96606786,  0.98003992,  0.96207585,  0.96207585,  0.96207585,\n",
       "         0.96207585,  0.96207585,  0.96207585,  0.96606786,  0.98003992,\n",
       "         0.96207585,  0.96207585,  0.96207585,  0.96207585,  0.96207585,\n",
       "         0.96207585,  0.96606786,  0.98003992]),\n",
       " 'split0_train_score': array([ 0.96398199,  0.96398199,  0.96398199,  0.96398199,  0.96398199,\n",
       "         0.96398199,  0.96398199,  0.96398199,  0.96398199,  0.96398199,\n",
       "         0.96398199,  0.96398199,  0.96398199,  0.96398199,  0.96398199,\n",
       "         0.96398199,  0.96398199,  0.96398199,  0.96398199,  0.96398199,\n",
       "         0.96398199,  0.96398199,  0.96398199,  0.96398199,  0.96398199,\n",
       "         0.96398199,  0.96398199,  0.96398199,  0.96398199,  0.96398199,\n",
       "         0.96398199,  0.96398199,  0.96398199,  0.96398199,  0.96398199,\n",
       "         0.96398199,  0.96398199,  0.96398199,  0.96398199,  0.96398199,\n",
       "         0.96398199,  0.96398199,  0.96398199,  0.96398199,  0.96398199,\n",
       "         0.96398199,  0.96398199,  0.96398199,  0.96398199,  0.96398199,\n",
       "         0.96398199,  0.96398199,  0.96398199,  0.96398199,  0.96398199,\n",
       "         0.96398199,  1.        ,  1.        ,  1.        ,  1.        ,\n",
       "         1.        ,  1.        ,  1.        ,  0.9989995 ,  1.        ,\n",
       "         1.        ,  1.        ,  1.        ,  1.        ,  1.        ,\n",
       "         1.        ,  1.        ,  1.        ,  1.        ,  1.        ,\n",
       "         1.        ,  1.        ,  1.        ,  1.        ,  1.        ,\n",
       "         1.        ,  1.        ,  1.        ,  1.        ,  1.        ,\n",
       "         1.        ,  1.        ,  1.        ]),\n",
       " 'split1_test_score': array([ 0.964,  0.964,  0.964,  0.964,  0.964,  0.964,  0.964,  0.964,\n",
       "         0.964,  0.964,  0.964,  0.964,  0.964,  0.964,  0.964,  0.964,\n",
       "         0.964,  0.964,  0.964,  0.964,  0.964,  0.964,  0.964,  0.964,\n",
       "         0.964,  0.964,  0.964,  0.964,  0.964,  0.964,  0.964,  0.964,\n",
       "         0.964,  0.964,  0.964,  0.964,  0.964,  0.964,  0.964,  0.964,\n",
       "         0.964,  0.964,  0.964,  0.964,  0.964,  0.964,  0.964,  0.964,\n",
       "         0.964,  0.964,  0.964,  0.964,  0.964,  0.964,  0.964,  0.964,\n",
       "         0.964,  0.964,  0.964,  0.964,  0.964,  0.964,  0.964,  0.988,\n",
       "         0.964,  0.964,  0.964,  0.964,  0.964,  0.964,  0.966,  0.99 ,\n",
       "         0.964,  0.964,  0.964,  0.964,  0.964,  0.964,  0.966,  0.99 ,\n",
       "         0.964,  0.964,  0.964,  0.964,  0.964,  0.964,  0.966,  0.99 ]),\n",
       " 'split1_train_score': array([ 0.9635,  0.9635,  0.9635,  0.9635,  0.9635,  0.9635,  0.9635,\n",
       "         0.9635,  0.9635,  0.9635,  0.9635,  0.9635,  0.9635,  0.9635,\n",
       "         0.9635,  0.9635,  0.9635,  0.9635,  0.9635,  0.9635,  0.9635,\n",
       "         0.9635,  0.9635,  0.9635,  0.9635,  0.9635,  0.9635,  0.9635,\n",
       "         0.9635,  0.9635,  0.9635,  0.9635,  0.9635,  0.9635,  0.9635,\n",
       "         0.9635,  0.9635,  0.9635,  0.9635,  0.9635,  0.9635,  0.9635,\n",
       "         0.9635,  0.9635,  0.9635,  0.9635,  0.9635,  0.9635,  0.9635,\n",
       "         0.9635,  0.9635,  0.9635,  0.9635,  0.9635,  0.9635,  0.9635,\n",
       "         1.    ,  1.    ,  1.    ,  1.    ,  1.    ,  1.    ,  1.    ,\n",
       "         0.9985,  1.    ,  1.    ,  1.    ,  1.    ,  1.    ,  1.    ,\n",
       "         1.    ,  1.    ,  1.    ,  1.    ,  1.    ,  1.    ,  1.    ,\n",
       "         1.    ,  1.    ,  1.    ,  1.    ,  1.    ,  1.    ,  1.    ,\n",
       "         1.    ,  1.    ,  1.    ,  1.    ]),\n",
       " 'split2_test_score': array([ 0.964,  0.964,  0.964,  0.964,  0.964,  0.964,  0.964,  0.964,\n",
       "         0.964,  0.964,  0.964,  0.964,  0.964,  0.964,  0.964,  0.964,\n",
       "         0.964,  0.964,  0.964,  0.964,  0.964,  0.964,  0.964,  0.964,\n",
       "         0.964,  0.964,  0.964,  0.964,  0.964,  0.964,  0.964,  0.964,\n",
       "         0.964,  0.964,  0.964,  0.964,  0.964,  0.964,  0.964,  0.964,\n",
       "         0.964,  0.964,  0.964,  0.964,  0.964,  0.964,  0.964,  0.964,\n",
       "         0.964,  0.964,  0.964,  0.964,  0.964,  0.964,  0.964,  0.964,\n",
       "         0.964,  0.964,  0.964,  0.964,  0.964,  0.964,  0.964,  0.976,\n",
       "         0.964,  0.964,  0.964,  0.964,  0.964,  0.964,  0.964,  0.988,\n",
       "         0.964,  0.964,  0.964,  0.964,  0.964,  0.964,  0.964,  0.988,\n",
       "         0.964,  0.964,  0.964,  0.964,  0.964,  0.964,  0.964,  0.988]),\n",
       " 'split2_train_score': array([ 0.9635,  0.9635,  0.9635,  0.9635,  0.9635,  0.9635,  0.9635,\n",
       "         0.9635,  0.9635,  0.9635,  0.9635,  0.9635,  0.9635,  0.9635,\n",
       "         0.9635,  0.9635,  0.9635,  0.9635,  0.9635,  0.9635,  0.9635,\n",
       "         0.9635,  0.9635,  0.9635,  0.9635,  0.9635,  0.9635,  0.9635,\n",
       "         0.9635,  0.9635,  0.9635,  0.9635,  0.9635,  0.9635,  0.9635,\n",
       "         0.9635,  0.9635,  0.9635,  0.9635,  0.9635,  0.9635,  0.9635,\n",
       "         0.9635,  0.9635,  0.9635,  0.9635,  0.9635,  0.9635,  0.9635,\n",
       "         0.9635,  0.9635,  0.9635,  0.9635,  0.9635,  0.9635,  0.9635,\n",
       "         1.    ,  1.    ,  1.    ,  1.    ,  1.    ,  1.    ,  1.    ,\n",
       "         0.9995,  1.    ,  1.    ,  1.    ,  1.    ,  1.    ,  1.    ,\n",
       "         1.    ,  1.    ,  1.    ,  1.    ,  1.    ,  1.    ,  1.    ,\n",
       "         1.    ,  1.    ,  1.    ,  1.    ,  1.    ,  1.    ,  1.    ,\n",
       "         1.    ,  1.    ,  1.    ,  1.    ]),\n",
       " 'split3_test_score': array([ 0.964,  0.964,  0.964,  0.964,  0.964,  0.964,  0.964,  0.964,\n",
       "         0.964,  0.964,  0.964,  0.964,  0.964,  0.964,  0.964,  0.964,\n",
       "         0.964,  0.964,  0.964,  0.964,  0.964,  0.964,  0.964,  0.964,\n",
       "         0.964,  0.964,  0.964,  0.964,  0.964,  0.964,  0.964,  0.964,\n",
       "         0.964,  0.964,  0.964,  0.964,  0.964,  0.964,  0.964,  0.964,\n",
       "         0.964,  0.964,  0.964,  0.964,  0.964,  0.964,  0.964,  0.964,\n",
       "         0.964,  0.964,  0.964,  0.964,  0.964,  0.964,  0.964,  0.964,\n",
       "         0.964,  0.964,  0.964,  0.964,  0.964,  0.964,  0.964,  0.982,\n",
       "         0.964,  0.964,  0.964,  0.964,  0.964,  0.964,  0.964,  0.988,\n",
       "         0.964,  0.964,  0.964,  0.964,  0.964,  0.964,  0.964,  0.988,\n",
       "         0.964,  0.964,  0.964,  0.964,  0.964,  0.964,  0.964,  0.988]),\n",
       " 'split3_train_score': array([ 0.9635,  0.9635,  0.9635,  0.9635,  0.9635,  0.9635,  0.9635,\n",
       "         0.9635,  0.9635,  0.9635,  0.9635,  0.9635,  0.9635,  0.9635,\n",
       "         0.9635,  0.9635,  0.9635,  0.9635,  0.9635,  0.9635,  0.9635,\n",
       "         0.9635,  0.9635,  0.9635,  0.9635,  0.9635,  0.9635,  0.9635,\n",
       "         0.9635,  0.9635,  0.9635,  0.9635,  0.9635,  0.9635,  0.9635,\n",
       "         0.9635,  0.9635,  0.9635,  0.9635,  0.9635,  0.9635,  0.9635,\n",
       "         0.9635,  0.9635,  0.9635,  0.9635,  0.9635,  0.9635,  0.9635,\n",
       "         0.9635,  0.9635,  0.9635,  0.9635,  0.9635,  0.9635,  0.9635,\n",
       "         1.    ,  1.    ,  1.    ,  1.    ,  1.    ,  1.    ,  1.    ,\n",
       "         0.9995,  1.    ,  1.    ,  1.    ,  1.    ,  1.    ,  1.    ,\n",
       "         1.    ,  1.    ,  1.    ,  1.    ,  1.    ,  1.    ,  1.    ,\n",
       "         1.    ,  1.    ,  1.    ,  1.    ,  1.    ,  1.    ,  1.    ,\n",
       "         1.    ,  1.    ,  1.    ,  1.    ]),\n",
       " 'split4_test_score': array([ 0.96392786,  0.96392786,  0.96392786,  0.96392786,  0.96392786,\n",
       "         0.96392786,  0.96392786,  0.96392786,  0.96392786,  0.96392786,\n",
       "         0.96392786,  0.96392786,  0.96392786,  0.96392786,  0.96392786,\n",
       "         0.96392786,  0.96392786,  0.96392786,  0.96392786,  0.96392786,\n",
       "         0.96392786,  0.96392786,  0.96392786,  0.96392786,  0.96392786,\n",
       "         0.96392786,  0.96392786,  0.96392786,  0.96392786,  0.96392786,\n",
       "         0.96392786,  0.96392786,  0.96392786,  0.96392786,  0.96392786,\n",
       "         0.96392786,  0.96392786,  0.96392786,  0.96392786,  0.96392786,\n",
       "         0.96392786,  0.96392786,  0.96392786,  0.96392786,  0.96392786,\n",
       "         0.96392786,  0.96392786,  0.96392786,  0.96392786,  0.96392786,\n",
       "         0.96392786,  0.96392786,  0.96392786,  0.96392786,  0.96392786,\n",
       "         0.96392786,  0.96392786,  0.96392786,  0.96392786,  0.96392786,\n",
       "         0.96392786,  0.96392786,  0.96392786,  0.9759519 ,  0.96392786,\n",
       "         0.96392786,  0.96392786,  0.96392786,  0.96392786,  0.96392786,\n",
       "         0.96392786,  0.97795591,  0.96392786,  0.96392786,  0.96392786,\n",
       "         0.96392786,  0.96392786,  0.96392786,  0.96392786,  0.97795591,\n",
       "         0.96392786,  0.96392786,  0.96392786,  0.96392786,  0.96392786,\n",
       "         0.96392786,  0.96392786,  0.97795591]),\n",
       " 'split4_train_score': array([ 0.96351824,  0.96351824,  0.96351824,  0.96351824,  0.96351824,\n",
       "         0.96351824,  0.96351824,  0.96351824,  0.96351824,  0.96351824,\n",
       "         0.96351824,  0.96351824,  0.96351824,  0.96351824,  0.96351824,\n",
       "         0.96351824,  0.96351824,  0.96351824,  0.96351824,  0.96351824,\n",
       "         0.96351824,  0.96351824,  0.96351824,  0.96351824,  0.96351824,\n",
       "         0.96351824,  0.96351824,  0.96351824,  0.96351824,  0.96351824,\n",
       "         0.96351824,  0.96351824,  0.96351824,  0.96351824,  0.96351824,\n",
       "         0.96351824,  0.96351824,  0.96351824,  0.96351824,  0.96351824,\n",
       "         0.96351824,  0.96351824,  0.96351824,  0.96351824,  0.96351824,\n",
       "         0.96351824,  0.96351824,  0.96351824,  0.96351824,  0.96351824,\n",
       "         0.96351824,  0.96351824,  0.96351824,  0.96351824,  0.96351824,\n",
       "         0.96351824,  1.        ,  1.        ,  1.        ,  1.        ,\n",
       "         1.        ,  1.        ,  1.        ,  0.99850075,  1.        ,\n",
       "         1.        ,  1.        ,  1.        ,  1.        ,  1.        ,\n",
       "         1.        ,  1.        ,  1.        ,  1.        ,  1.        ,\n",
       "         1.        ,  1.        ,  1.        ,  1.        ,  1.        ,\n",
       "         1.        ,  1.        ,  1.        ,  1.        ,  1.        ,\n",
       "         1.        ,  1.        ,  1.        ]),\n",
       " 'std_fit_time': array([ 0.00385741,  0.00307807,  0.00455237,  0.00204039,  0.002895  ,\n",
       "         0.00215956,  0.0018609 ,  0.00077476,  0.00483486,  0.00520594,\n",
       "         0.00472137,  0.00582343,  0.00453553,  0.0035324 ,  0.001814  ,\n",
       "         0.00096634,  0.00783463,  0.00516589,  0.00317101,  0.00615683,\n",
       "         0.00640457,  0.00215632,  0.00237998,  0.00255089,  0.00562132,\n",
       "         0.00594101,  0.00455325,  0.00628653,  0.00554407,  0.00357237,\n",
       "         0.00165674,  0.00265522,  0.00697351,  0.00487124,  0.0029762 ,\n",
       "         0.00446472,  0.00511602,  0.0032435 ,  0.00252011,  0.00201766,\n",
       "         0.01437791,  0.02025268,  0.02712   ,  0.01365067,  0.00941809,\n",
       "         0.010698  ,  0.01401928,  0.00267482,  0.01596104,  0.03463179,\n",
       "         0.02624109,  0.01807436,  0.02939746,  0.00809682,  0.01365816,\n",
       "         0.00778219,  0.03543992,  0.02163277,  0.01690059,  0.0239862 ,\n",
       "         0.02634627,  0.02308553,  0.02715265,  0.019715  ,  0.04924953,\n",
       "         0.02686716,  0.01104056,  0.01050328,  0.02332968,  0.02354086,\n",
       "         0.01574145,  0.01748696,  0.01042104,  0.03805287,  0.03629823,\n",
       "         0.01306725,  0.01547923,  0.02691296,  0.00502775,  0.00727796,\n",
       "         0.0259831 ,  0.02750851,  0.01899957,  0.01377583,  0.04224337,\n",
       "         0.01641757,  0.02076697,  0.0189503 ]),\n",
       " 'std_score_time': array([ 0.00024491,  0.0017159 ,  0.00149781,  0.00180168,  0.00024482,\n",
       "         0.00067861,  0.00063324,  0.00037476,  0.00174456,  0.00111422,\n",
       "         0.00019991,  0.0014293 ,  0.0017624 ,  0.00058053,  0.0002001 ,\n",
       "         0.00044782,  0.00169393,  0.001364  ,  0.00150418,  0.00160182,\n",
       "         0.00182921,  0.00051072,  0.00060067,  0.00063282,  0.00203521,\n",
       "         0.00180613,  0.0013276 ,  0.00164386,  0.00112295,  0.00059991,\n",
       "         0.00091692,  0.00092854,  0.00291059,  0.00253209,  0.0016622 ,\n",
       "         0.00231173,  0.00287922,  0.00074018,  0.00083783,  0.0005058 ,\n",
       "         0.00304154,  0.00783079,  0.00855532,  0.01268043,  0.01276457,\n",
       "         0.0016913 ,  0.00316408,  0.00107299,  0.0057434 ,  0.00969968,\n",
       "         0.01179749,  0.00689896,  0.00829676,  0.00563045,  0.00536218,\n",
       "         0.00385764,  0.00924918,  0.00720945,  0.00889719,  0.00904592,\n",
       "         0.00687205,  0.00530481,  0.00512974,  0.00531474,  0.010243  ,\n",
       "         0.01392974,  0.00598233,  0.01354988,  0.00338791,  0.00400288,\n",
       "         0.00265414,  0.00233823,  0.00879805,  0.00942255,  0.02235231,\n",
       "         0.00662901,  0.0116312 ,  0.00492741,  0.00175286,  0.00297894,\n",
       "         0.00271097,  0.0107634 ,  0.0113376 ,  0.0108644 ,  0.00834074,\n",
       "         0.00583812,  0.00336306,  0.004696  ]),\n",
       " 'std_test_score': array([ 0.00076354,  0.00076354,  0.00076354,  0.00076354,  0.00076354,\n",
       "         0.00076354,  0.00076354,  0.00076354,  0.00076354,  0.00076354,\n",
       "         0.00076354,  0.00076354,  0.00076354,  0.00076354,  0.00076354,\n",
       "         0.00076354,  0.00076354,  0.00076354,  0.00076354,  0.00076354,\n",
       "         0.00076354,  0.00076354,  0.00076354,  0.00076354,  0.00076354,\n",
       "         0.00076354,  0.00076354,  0.00076354,  0.00076354,  0.00076354,\n",
       "         0.00076354,  0.00076354,  0.00076354,  0.00076354,  0.00076354,\n",
       "         0.00076354,  0.00076354,  0.00076354,  0.00076354,  0.00076354,\n",
       "         0.00076354,  0.00076354,  0.00076354,  0.00076354,  0.00076354,\n",
       "         0.00076354,  0.00076354,  0.00076354,  0.00076354,  0.00076354,\n",
       "         0.00076354,  0.00076354,  0.00076354,  0.00076354,  0.00076354,\n",
       "         0.00076354,  0.00076354,  0.00076354,  0.00076354,  0.00076354,\n",
       "         0.00076354,  0.00076354,  0.00076354,  0.00456483,  0.00076354,\n",
       "         0.00076354,  0.00076354,  0.00076354,  0.00076354,  0.00076354,\n",
       "         0.00100894,  0.00483677,  0.00076354,  0.00076354,  0.00076354,\n",
       "         0.00076354,  0.00076354,  0.00076354,  0.00100894,  0.00483677,\n",
       "         0.00076354,  0.00076354,  0.00076354,  0.00076354,  0.00076354,\n",
       "         0.00076354,  0.00100894,  0.00483677]),\n",
       " 'std_train_score': array([ 0.0001911 ,  0.0001911 ,  0.0001911 ,  0.0001911 ,  0.0001911 ,\n",
       "         0.0001911 ,  0.0001911 ,  0.0001911 ,  0.0001911 ,  0.0001911 ,\n",
       "         0.0001911 ,  0.0001911 ,  0.0001911 ,  0.0001911 ,  0.0001911 ,\n",
       "         0.0001911 ,  0.0001911 ,  0.0001911 ,  0.0001911 ,  0.0001911 ,\n",
       "         0.0001911 ,  0.0001911 ,  0.0001911 ,  0.0001911 ,  0.0001911 ,\n",
       "         0.0001911 ,  0.0001911 ,  0.0001911 ,  0.0001911 ,  0.0001911 ,\n",
       "         0.0001911 ,  0.0001911 ,  0.0001911 ,  0.0001911 ,  0.0001911 ,\n",
       "         0.0001911 ,  0.0001911 ,  0.0001911 ,  0.0001911 ,  0.0001911 ,\n",
       "         0.0001911 ,  0.0001911 ,  0.0001911 ,  0.0001911 ,  0.0001911 ,\n",
       "         0.0001911 ,  0.0001911 ,  0.0001911 ,  0.0001911 ,  0.0001911 ,\n",
       "         0.0001911 ,  0.0001911 ,  0.0001911 ,  0.0001911 ,  0.0001911 ,\n",
       "         0.0001911 ,  0.        ,  0.        ,  0.        ,  0.        ,\n",
       "         0.        ,  0.        ,  0.        ,  0.00044705,  0.        ,\n",
       "         0.        ,  0.        ,  0.        ,  0.        ,  0.        ,\n",
       "         0.        ,  0.        ,  0.        ,  0.        ,  0.        ,\n",
       "         0.        ,  0.        ,  0.        ,  0.        ,  0.        ,\n",
       "         0.        ,  0.        ,  0.        ,  0.        ,  0.        ,\n",
       "         0.        ,  0.        ,  0.        ])}"
      ]
     },
     "execution_count": 12,
     "metadata": {},
     "output_type": "execute_result"
    }
   ],
   "source": [
    "def convert_to_gamma(radial_width):\n",
    "    converted = [0]*len(radial_width)\n",
    "    for i in range(len(radial_width)):\n",
    "        gamma = 1/(2*(radial_width[i]**2))\n",
    "        converted[i] = gamma\n",
    "    return converted\n",
    "\n",
    "radial_width = [0.001, 0.005, 0.01, 0.05, 0.1, 0.5, 1, 2]\n",
    "gamma_list = convert_to_gamma(radial_width)\n",
    "\n",
    "# SVM process\n",
    "\n",
    "# rbf\n",
    "# polynomial degree 2 & 3 (this one is using 3)\n",
    "# radial with width [0.001, 0.005, 0.01, 0.05, 0.1, 0.5, 1, 2]\n",
    "# regularization parameter C = [1e-7, 1e-6, 1e-5, 1e-4, 1e-3]\n",
    "\n",
    "classifier = svm.SVC(kernel='rbf')\n",
    "C_list = [1e-7, 1e-6, 1e-5, 1e-4, 1e-3, 1e-2, 1e-1, 1e-0, 1e1, 1e2, 1e3]\n",
    "params = {\"C\": C_list, \"gamma\": gamma_list}\n",
    "\n",
    "GSR = GridSearchCV(classifier, params, return_train_score=True, cv=5, n_jobs=4)\n",
    "GSR.fit(X_train_val,Y_train_val)\n",
    "GSR.cv_results_\n",
    "                               \n",
    "# May also want to try rbf kernel with sigma (radial width values)"
   ]
  },
  {
   "cell_type": "code",
   "execution_count": 13,
   "metadata": {},
   "outputs": [
    {
     "name": "stdout",
     "output_type": "stream",
     "text": [
      "{'C': 10.0, 'gamma': 0.125}\n",
      "0.986\n"
     ]
    }
   ],
   "source": [
    "# find best C and best accuracy\n",
    "test_acc = sum(GSR.best_estimator_.predict(X_test) == Y_test) / len(X_test)\n",
    "print(GSR.best_params_)\n",
    "print(test_acc)"
   ]
  },
  {
   "cell_type": "code",
   "execution_count": 15,
   "metadata": {},
   "outputs": [
    {
     "data": {
      "image/png": "[encoded data removed]",
      "text/plain": [
       "<matplotlib.figure.Figure at 0x12dadc90>"
      ]
     },
     "metadata": {},
     "output_type": "display_data"
    },
    {
     "data": {
      "image/png": "[encoded data removed]",
      "text/plain": [
       "<matplotlib.figure.Figure at 0x12d21030>"
      ]
     },
     "metadata": {},
     "output_type": "display_data"
    }
   ],
   "source": [
    "def draw_heatmap_RBF(acc, acc_desc, gamma_list, C_list):\n",
    "    plt.figure(figsize = (5,4))\n",
    "    ax = sns.heatmap(acc, annot=True, fmt='.3f', \n",
    "                     xticklabels=gamma_list, yticklabels=C_list)\n",
    "    ax.collections[0].colorbar.set_label(\"accuracy\")\n",
    "    ax.set(xlabel = '$\\gamma$', ylabel='$C$')\n",
    "    plt.title(acc_desc + ' w.r.t $C$ and $\\gamma$')\n",
    "    sns.set_style(\"whitegrid\", {'axes.grid' : False})\n",
    "    plt.show()   \n",
    "\n",
    "train_acc = GSR.cv_results_['mean_train_score'].reshape(11,8)\n",
    "draw_heatmap_RBF(train_acc, 'train accuracy', gamma_list, C_list)\n",
    "\n",
    "val_acc = GSR.cv_results_['mean_test_score'].reshape(11,8)\n",
    "draw_heatmap_RBF(val_acc, 'val accuracy',gamma_list, C_list)"
   ]
  },
  {
   "cell_type": "code",
   "execution_count": 16,
   "metadata": {},
   "outputs": [
    {
     "data": {
      "text/plain": [
       "array([ 0.,  0.,  0., ...,  0.,  0.,  0.])"
      ]
     },
     "execution_count": 16,
     "metadata": {},
     "output_type": "execute_result"
    }
   ],
   "source": [
    "# KNN\n",
    "k_list = [1,2,3,4,5,6,7,8,9,10,11,12,13,14,15,16,17,18,19,20,21,22,23,24,25,26]\n",
    "#k_list = [1,5,8]\n",
    "params = {\"n_neighbors\": k_list}\n",
    "knn = KNeighborsClassifier(n_neighbors=26)\n",
    "kgs=GridSearchCV(knn, params)\n",
    "knn.fit(X_train_val, Y_train_val)\n",
    "knn.predict(X_test)"
   ]
  },
  {
   "cell_type": "code",
   "execution_count": 17,
   "metadata": {},
   "outputs": [
    {
     "name": "stdout",
     "output_type": "stream",
     "text": [
      "0.98\n"
     ]
    }
   ],
   "source": [
    "# compute accuracy\n",
    "test_acc = np.sum(knn.predict(X_test)==Y_test) / len(X_test)\n",
    "print(test_acc)"
   ]
  },
  {
   "cell_type": "code",
   "execution_count": 18,
   "metadata": {},
   "outputs": [
    {
     "data": {
      "text/plain": [
       "array([ 0.,  0.,  0., ...,  0.,  0.,  0.])"
      ]
     },
     "execution_count": 18,
     "metadata": {},
     "output_type": "execute_result"
    }
   ],
   "source": [
    "# Random Forest\n",
    "rf = RandomForestClassifier(n_estimators=1024, random_state=0)\n",
    "rf.fit(X_train_val, Y_train_val)\n",
    "rf.predict(X_test)"
   ]
  },
  {
   "cell_type": "code",
   "execution_count": 19,
   "metadata": {},
   "outputs": [
    {
     "name": "stdout",
     "output_type": "stream",
     "text": [
      "0.9868\n"
     ]
    }
   ],
   "source": [
    "# compute accuracy\n",
    "test_acc = np.sum(rf.predict(X_test)==Y_test) / len(X_test)\n",
    "print(test_acc)"
   ]
  },
  {
   "cell_type": "code",
   "execution_count": null,
   "metadata": {
    "collapsed": true
   },
   "outputs": [],
   "source": []
  }
 ],
 "metadata": {
  "kernelspec": {
   "display_name": "Python 3",
   "language": "python",
   "name": "python3"
  },
  "language_info": {
   "codemirror_mode": {
    "name": "ipython",
    "version": 3
   },
   "file_extension": ".py",
   "mimetype": "text/x-python",
   "name": "python",
   "nbconvert_exporter": "python",
   "pygments_lexer": "ipython3",
   "version": "3.6.1"
  }
 },
 "nbformat": 4,
 "nbformat_minor": 2
}
